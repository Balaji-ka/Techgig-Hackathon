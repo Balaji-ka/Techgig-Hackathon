{
  "nbformat": 4,
  "nbformat_minor": 0,
  "metadata": {
    "colab": {
      "name": "Conversion fraud in Digital Advertising.ipynb",
      "provenance": [],
      "collapsed_sections": [
        "CmHJv8eDtoDi",
        "QzPRl9hetoDv",
        "yUBVyZCAtoD2",
        "pCbEY5notoD8",
        "86iVYxIZtoD9",
        "KS9XI_RCtoD-",
        "W3mulZdjtoEE",
        "1kWMD6-qtoEO",
        "bXLk58mQtoEY",
        "VuZocR3ftoEd",
        "g6gaXZJqtoEj",
        "EJ6vQYkVtoEo",
        "3lXy-YjGtoEq",
        "Cr6zdFNetoEu",
        "Owa7ehpxtoE3",
        "t_DfsyN0toE5",
        "LoI8lhMptoE7",
        "ywKX6hGytoE-",
        "abuAiGf1toFB",
        "TJJWwcCmtoFG",
        "0y0nSb22toFH",
        "NXFXuVWPtoFO",
        "HYYn7qu_toFY",
        "C1aupJMutoFb"
      ]
    },
    "kernelspec": {
      "display_name": "Python 3",
      "language": "python",
      "name": "python3"
    },
    "language_info": {
      "codemirror_mode": {
        "name": "ipython",
        "version": 3
      },
      "file_extension": ".py",
      "mimetype": "text/x-python",
      "name": "python",
      "nbconvert_exporter": "python",
      "pygments_lexer": "ipython3",
      "version": "3.8.5"
    }
  },
  "cells": [
    {
      "cell_type": "markdown",
      "metadata": {
        "id": "ySu92n1ftoC_"
      },
      "source": [
        "# Conversion-fraud-in-Digital-Advertising"
      ]
    },
    {
      "cell_type": "code",
      "metadata": {
        "id": "lG4hVfBitoDH"
      },
      "source": [
        "import numpy as np\n",
        "import pandas as pd\n",
        "import matplotlib.pyplot as plt\n",
        "import seaborn as sns"
      ],
      "execution_count": null,
      "outputs": []
    },
    {
      "cell_type": "code",
      "metadata": {
        "id": "atijWKWEtoDK",
        "scrolled": true
      },
      "source": [
        "train_df = pd.read_csv(\"Training Data.csv\")\n",
        "test_df = pd.read_csv(\"Test Data.csv\")"
      ],
      "execution_count": null,
      "outputs": []
    },
    {
      "cell_type": "code",
      "metadata": {
        "id": "r8QtHwHCtoDO",
        "scrolled": false
      },
      "source": [
        "train_df.head()"
      ],
      "execution_count": null,
      "outputs": []
    },
    {
      "cell_type": "code",
      "metadata": {
        "id": "nq3n8xxWtoDQ"
      },
      "source": [
        "train_df.shape"
      ],
      "execution_count": null,
      "outputs": []
    },
    {
      "cell_type": "code",
      "metadata": {
        "id": "RzGQggmDtoDV",
        "scrolled": false
      },
      "source": [
        "test_df.head()"
      ],
      "execution_count": null,
      "outputs": []
    },
    {
      "cell_type": "code",
      "metadata": {
        "id": "ueoHtPc9toDW"
      },
      "source": [
        "train_df.columns"
      ],
      "execution_count": null,
      "outputs": []
    },
    {
      "cell_type": "code",
      "metadata": {
        "id": "KiCS8t5WtoDY",
        "scrolled": false
      },
      "source": [
        "len(train_df.columns)"
      ],
      "execution_count": null,
      "outputs": []
    },
    {
      "cell_type": "markdown",
      "metadata": {
        "id": "b4ZYIx4HtoDZ"
      },
      "source": [
        "### Data Preprocessing and Feature Engineering"
      ]
    },
    {
      "cell_type": "markdown",
      "metadata": {
        "id": "4Cp4Dw4otoDa"
      },
      "source": [
        "#### Let's fill the empty cells"
      ]
    },
    {
      "cell_type": "code",
      "metadata": {
        "id": "pl4ZhAl4toDb"
      },
      "source": [
        "train_df.isnull().sum()"
      ],
      "execution_count": null,
      "outputs": []
    },
    {
      "cell_type": "code",
      "metadata": {
        "id": "8PzXUqi9toDc",
        "scrolled": false
      },
      "source": [
        "train_df.isnull().mean()*100"
      ],
      "execution_count": null,
      "outputs": []
    },
    {
      "cell_type": "markdown",
      "metadata": {
        "id": "QQ2OImNLtoDd"
      },
      "source": [
        "#### Let's drop the features first which are having more than 40% of the NAN values "
      ]
    },
    {
      "cell_type": "code",
      "metadata": {
        "id": "ckppAkxHtoDe"
      },
      "source": [
        "features_not_needed = []\n",
        "for feature in train_df.columns:\n",
        "    if train_df[feature].isnull().mean()*100 >= 40:\n",
        "        features_not_needed.append(feature)"
      ],
      "execution_count": null,
      "outputs": []
    },
    {
      "cell_type": "code",
      "metadata": {
        "id": "cyyC2axftoDf"
      },
      "source": [
        "features_not_needed"
      ],
      "execution_count": null,
      "outputs": []
    },
    {
      "cell_type": "code",
      "metadata": {
        "id": "Qi1buQ06toDg"
      },
      "source": [
        "train_df = train_df.drop(features_not_needed, axis = \"columns\")"
      ],
      "execution_count": null,
      "outputs": []
    },
    {
      "cell_type": "code",
      "metadata": {
        "id": "iQMiuwCXtoDg",
        "scrolled": true
      },
      "source": [
        "train_df.shape"
      ],
      "execution_count": null,
      "outputs": []
    },
    {
      "cell_type": "markdown",
      "metadata": {
        "id": "CmHJv8eDtoDi"
      },
      "source": [
        "#### Let us fill the missing values in the numerical features first"
      ]
    },
    {
      "cell_type": "code",
      "metadata": {
        "id": "JZirhaaStoDi"
      },
      "source": [
        "def null_values(df, feature_list):\n",
        "    for col in feature_list:\n",
        "        print(col, \"-->\", df[col].isnull().mean()*100)"
      ],
      "execution_count": null,
      "outputs": []
    },
    {
      "cell_type": "code",
      "metadata": {
        "id": "wMnCioNytoDj",
        "scrolled": false
      },
      "source": [
        "numerical_features = [feature for feature in train_df.columns if train_df[feature].dtypes != 'O']\n",
        "numerical_features"
      ],
      "execution_count": null,
      "outputs": []
    },
    {
      "cell_type": "code",
      "metadata": {
        "id": "qZJ5r9ODtoDl",
        "scrolled": false
      },
      "source": [
        "null_values(train_df, numerical_features)"
      ],
      "execution_count": null,
      "outputs": []
    },
    {
      "cell_type": "code",
      "metadata": {
        "id": "7xGRPmUrtoDm"
      },
      "source": [
        "numerical_features_with_nan = [feature for feature in numerical_features if train_df[feature].isnull().mean() != 0]"
      ],
      "execution_count": null,
      "outputs": []
    },
    {
      "cell_type": "code",
      "metadata": {
        "id": "YzwcQ20RtoDm",
        "scrolled": false
      },
      "source": [
        "numerical_features_with_nan"
      ],
      "execution_count": null,
      "outputs": []
    },
    {
      "cell_type": "code",
      "metadata": {
        "id": "f0j-MkJWtoDn"
      },
      "source": [
        "def plot_hist(df, feature):\n",
        "    plt.hist(df[feature], color='green')\n",
        "    plt.title(feature)\n",
        "    plt.show()"
      ],
      "execution_count": null,
      "outputs": []
    },
    {
      "cell_type": "code",
      "metadata": {
        "id": "ZKe6kQ0atoDo",
        "scrolled": true
      },
      "source": [
        "for feature in numerical_features_with_nan:\n",
        "    plot_hist(train_df, feature)"
      ],
      "execution_count": null,
      "outputs": []
    },
    {
      "cell_type": "markdown",
      "metadata": {
        "id": "ZYmxDx6qtoDp"
      },
      "source": [
        "##### Seems majority of the features are discrete numerical variables"
      ]
    },
    {
      "cell_type": "markdown",
      "metadata": {
        "id": "ynIqZdZptoDq"
      },
      "source": [
        "##### Let's fill the missing values using random sample imputation"
      ]
    },
    {
      "cell_type": "code",
      "metadata": {
        "id": "KLBxfzs3toDr"
      },
      "source": [
        "def impute_nan(df,variable):\n",
        "    ##It will have the random sample to fill the na\n",
        "    random_sample=df[variable].dropna().sample(df[variable].isnull().sum(),random_state=0)\n",
        "    ##pandas need to have same index in order to merge the dataset\n",
        "    random_sample.index=df[df[variable].isnull()].index\n",
        "    df.loc[df[variable].isnull(),variable]=random_sample"
      ],
      "execution_count": null,
      "outputs": []
    },
    {
      "cell_type": "code",
      "metadata": {
        "id": "hjUXoDoMtoDr"
      },
      "source": [
        "for feature in numerical_features_with_nan:\n",
        "    impute_nan(train_df, feature)"
      ],
      "execution_count": null,
      "outputs": []
    },
    {
      "cell_type": "code",
      "metadata": {
        "id": "Jnev2wSztoDs"
      },
      "source": [
        "train_df.shape"
      ],
      "execution_count": null,
      "outputs": []
    },
    {
      "cell_type": "code",
      "metadata": {
        "id": "I8rE51ewtoDt",
        "scrolled": false
      },
      "source": [
        "train_df.head()"
      ],
      "execution_count": null,
      "outputs": []
    },
    {
      "cell_type": "code",
      "metadata": {
        "id": "1CAPn_EhtoDu",
        "scrolled": true
      },
      "source": [
        "null_values(train_df, numerical_features_with_nan)"
      ],
      "execution_count": null,
      "outputs": []
    },
    {
      "cell_type": "markdown",
      "metadata": {
        "id": "QzPRl9hetoDv"
      },
      "source": [
        "#### Filling the missing values in catagorical features"
      ]
    },
    {
      "cell_type": "code",
      "metadata": {
        "id": "tC6RYwAJtoDw"
      },
      "source": [
        "categorical_features = [feature for feature in train_df.columns if train_df[feature].dtype == 'O' ]"
      ],
      "execution_count": null,
      "outputs": []
    },
    {
      "cell_type": "code",
      "metadata": {
        "id": "9gsHfcu7toDw",
        "scrolled": true
      },
      "source": [
        "categorical_features_with_nan = [feature for feature in categorical_features if train_df[feature].isnull().mean() != 0 ]\n",
        "categorical_features_with_nan"
      ],
      "execution_count": null,
      "outputs": []
    },
    {
      "cell_type": "code",
      "metadata": {
        "id": "rvQYEyJQtoDx",
        "scrolled": true
      },
      "source": [
        "null_values(train_df, categorical_features_with_nan)"
      ],
      "execution_count": null,
      "outputs": []
    },
    {
      "cell_type": "code",
      "metadata": {
        "id": "_vkAA689toDy",
        "scrolled": true
      },
      "source": [
        "for feature in categorical_features_with_nan:\n",
        "    print(feature, \"-->\", len(train_df[feature].unique()))"
      ],
      "execution_count": null,
      "outputs": []
    },
    {
      "cell_type": "code",
      "metadata": {
        "id": "hraR2IqxtoD0",
        "scrolled": false
      },
      "source": [
        "train_df['ip_cr'].value_counts()"
      ],
      "execution_count": null,
      "outputs": []
    },
    {
      "cell_type": "code",
      "metadata": {
        "id": "TdkEDmi0toD1"
      },
      "source": [
        "#### Seems that this feature ip_cr dosen't contain any valuable information, so let us drop it\n",
        "train_df.drop(['ip_cr'], axis=\"columns\", inplace=True)"
      ],
      "execution_count": null,
      "outputs": []
    },
    {
      "cell_type": "markdown",
      "metadata": {
        "id": "yUBVyZCAtoD2"
      },
      "source": [
        "#### let us use the random sample imputation technique to fill the missing values"
      ]
    },
    {
      "cell_type": "code",
      "metadata": {
        "id": "aSjgkxUPtoD3"
      },
      "source": [
        "categorical_features_with_nan.remove('ip_cr')"
      ],
      "execution_count": null,
      "outputs": []
    },
    {
      "cell_type": "code",
      "metadata": {
        "id": "RHkbV9ZItoD3"
      },
      "source": [
        "for feature in categorical_features_with_nan:\n",
        "    impute_nan(train_df, feature)"
      ],
      "execution_count": null,
      "outputs": []
    },
    {
      "cell_type": "code",
      "metadata": {
        "id": "JpYYaV91toD4",
        "scrolled": true
      },
      "source": [
        "null_values(train_df, categorical_features_with_nan)"
      ],
      "execution_count": null,
      "outputs": []
    },
    {
      "cell_type": "code",
      "metadata": {
        "id": "caURcajPtoD5",
        "scrolled": false
      },
      "source": [
        "train_df.isnull().mean()"
      ],
      "execution_count": null,
      "outputs": []
    },
    {
      "cell_type": "code",
      "metadata": {
        "id": "bsWxnn_YtoD5",
        "scrolled": true
      },
      "source": [
        "train_df['conversiontime_cr'].unique()"
      ],
      "execution_count": null,
      "outputs": []
    },
    {
      "cell_type": "markdown",
      "metadata": {
        "id": "Ls0hHoq2toD6"
      },
      "source": [
        "##### Now our dataset has no nan values 👍🙌"
      ]
    },
    {
      "cell_type": "markdown",
      "metadata": {
        "id": "pCbEY5notoD8"
      },
      "source": [
        "### Feature Selection using Pearson Correlation"
      ]
    },
    {
      "cell_type": "code",
      "metadata": {
        "id": "IL18rjeItoD8",
        "scrolled": false
      },
      "source": [
        "corrmat = train_df.corr()\n",
        "top_corr_features = corrmat.index\n",
        "plt.figure(figsize=(30,30))\n",
        "g=sns.heatmap(train_df.corr(),annot=True,cmap=\"RdYlGn\")"
      ],
      "execution_count": null,
      "outputs": []
    },
    {
      "cell_type": "markdown",
      "metadata": {
        "id": "86iVYxIZtoD9"
      },
      "source": [
        "#### From the above correlation matrix, we can infer that there are many features which are highly correlated with other features"
      ]
    },
    {
      "cell_type": "markdown",
      "metadata": {
        "id": "KS9XI_RCtoD-"
      },
      "source": [
        "#### Let us find and remove the highly features by using the following function"
      ]
    },
    {
      "cell_type": "code",
      "metadata": {
        "id": "FrtzYZjOtoD_"
      },
      "source": [
        "#with the following function we can select highly correlated features\n",
        "# it will remove the first feature that is correlated with anything other feature\n",
        "\n",
        "def correlation(dataset, threshold):\n",
        "    col_corr = set()  # Set of all the names of correlated columns\n",
        "    corr_matrix = dataset.corr()\n",
        "    for i in range(len(corr_matrix.columns)):\n",
        "        for j in range(i):\n",
        "            if (corr_matrix.iloc[i, j]) > threshold: # we are interested in absolute coeff value\n",
        "                colname = corr_matrix.columns[i]  # getting the name of column\n",
        "                col_corr.add(colname)\n",
        "    return col_corr"
      ],
      "execution_count": null,
      "outputs": []
    },
    {
      "cell_type": "code",
      "metadata": {
        "id": "TR7lKkgwtoEA",
        "scrolled": false
      },
      "source": [
        "list(correlation(train_df, 0.85))"
      ],
      "execution_count": null,
      "outputs": []
    },
    {
      "cell_type": "code",
      "metadata": {
        "id": "P1zHjn72toEB"
      },
      "source": [
        "### Here i am choosing the thresold value as 0.85 and dropping the highly correlated features\n",
        "train_df.drop(correlation(train_df, 0.85), axis=\"columns\", inplace=True)"
      ],
      "execution_count": null,
      "outputs": []
    },
    {
      "cell_type": "code",
      "metadata": {
        "id": "WIqXaO9rtoEB"
      },
      "source": [
        "train_df.columns"
      ],
      "execution_count": null,
      "outputs": []
    },
    {
      "cell_type": "code",
      "metadata": {
        "id": "aCeiKU97toEC",
        "scrolled": false
      },
      "source": [
        "train_df.shape"
      ],
      "execution_count": null,
      "outputs": []
    },
    {
      "cell_type": "code",
      "metadata": {
        "id": "uKeEaKNxtoED",
        "scrolled": false
      },
      "source": [
        "train_df.head(10)"
      ],
      "execution_count": null,
      "outputs": []
    },
    {
      "cell_type": "markdown",
      "metadata": {
        "id": "W3mulZdjtoEE"
      },
      "source": [
        "#### Let's check the other catogorical features"
      ]
    },
    {
      "cell_type": "code",
      "metadata": {
        "id": "YVjEabgItoEF"
      },
      "source": [
        "train_df['clmbuserid_cr']"
      ],
      "execution_count": null,
      "outputs": []
    },
    {
      "cell_type": "code",
      "metadata": {
        "id": "mVjxvAaMtoEG",
        "scrolled": false
      },
      "source": [
        "len(train_df['clmbuserid_cr'].unique())"
      ],
      "execution_count": null,
      "outputs": []
    },
    {
      "cell_type": "code",
      "metadata": {
        "id": "30JjjHlutoEH"
      },
      "source": [
        "train_df['imprid_cr']"
      ],
      "execution_count": null,
      "outputs": []
    },
    {
      "cell_type": "code",
      "metadata": {
        "id": "BDMdy4z1toEI",
        "scrolled": true
      },
      "source": [
        "len(train_df['imprid_cr'].unique())"
      ],
      "execution_count": null,
      "outputs": []
    },
    {
      "cell_type": "code",
      "metadata": {
        "id": "3MZB73GZtoEI"
      },
      "source": [
        "train_df['audiences_cr']"
      ],
      "execution_count": null,
      "outputs": []
    },
    {
      "cell_type": "code",
      "metadata": {
        "id": "x2hzV7uitoEJ"
      },
      "source": [
        "len(train_df['audiences_cr'].unique())"
      ],
      "execution_count": null,
      "outputs": []
    },
    {
      "cell_type": "markdown",
      "metadata": {
        "id": "Celd7ZxytoEK"
      },
      "source": [
        "##### Seems these catogorical features are not having any valuable inforamtion and if we do one-hot-encoding,then we may face the issue of \"Curse of Dimensionality\".\n",
        "##### So i will  drop those features"
      ]
    },
    {
      "cell_type": "code",
      "metadata": {
        "id": "qZ_MMh2ZtoEL"
      },
      "source": [
        "train_df.drop(['clmbuserid_cr', 'imprid_cr', 'audiences_cr'], axis=\"columns\", inplace=True)"
      ],
      "execution_count": null,
      "outputs": []
    },
    {
      "cell_type": "code",
      "metadata": {
        "id": "2oAh8mH1toEM",
        "scrolled": true
      },
      "source": [
        "train_df.head()"
      ],
      "execution_count": null,
      "outputs": []
    },
    {
      "cell_type": "code",
      "metadata": {
        "id": "P_flMyACtoEN",
        "scrolled": false
      },
      "source": [
        "train_df.dtypes"
      ],
      "execution_count": null,
      "outputs": []
    },
    {
      "cell_type": "code",
      "metadata": {
        "id": "uf-8_rTltoEN",
        "scrolled": true
      },
      "source": [
        "train_df.head(10)"
      ],
      "execution_count": null,
      "outputs": []
    },
    {
      "cell_type": "markdown",
      "metadata": {
        "id": "1kWMD6-qtoEO"
      },
      "source": [
        "#### There are still more catogorical features which we have to handle "
      ]
    },
    {
      "cell_type": "markdown",
      "metadata": {
        "id": "NOL5WgX6toEP"
      },
      "source": [
        "refurl_cr ,   connTypeDvimId_cr  ,   allAudiences_cr                                                     "
      ]
    },
    {
      "cell_type": "code",
      "metadata": {
        "id": "CoSNzHyPtoEQ"
      },
      "source": [
        "len(train_df['refurl_cr'].unique())"
      ],
      "execution_count": null,
      "outputs": []
    },
    {
      "cell_type": "code",
      "metadata": {
        "id": "PA3SFIugtoEQ"
      },
      "source": [
        "train_df['refurl_cr']"
      ],
      "execution_count": null,
      "outputs": []
    },
    {
      "cell_type": "code",
      "metadata": {
        "id": "WpyfPG38toER",
        "scrolled": true
      },
      "source": [
        "len(train_df['connTypeDimId_cr'].unique())"
      ],
      "execution_count": null,
      "outputs": []
    },
    {
      "cell_type": "code",
      "metadata": {
        "colab": {
          "background_save": true
        },
        "id": "TF2cpQnstoES",
        "scrolled": true,
        "outputId": "b30ce309-42a3-48f3-9637-bb6fce5505ba"
      },
      "source": [
        "train_df['connTypeDimId_cr']"
      ],
      "execution_count": null,
      "outputs": [
        {
          "data": {
            "text/plain": [
              "0      264496\n",
              "1      264496\n",
              "2      264503\n",
              "3      264496\n",
              "4      264496\n",
              "        ...  \n",
              "960    264494\n",
              "961    264496\n",
              "962    264496\n",
              "963    264494\n",
              "964    264496\n",
              "Name: connTypeDimId_cr, Length: 965, dtype: object"
            ]
          },
          "execution_count": null,
          "metadata": {},
          "output_type": "execute_result"
        }
      ]
    },
    {
      "cell_type": "markdown",
      "metadata": {
        "id": "MfeU8DAmtoEU"
      },
      "source": [
        "This feature 'connTypeDimId_cr' is a numeric catogorical feature"
      ]
    },
    {
      "cell_type": "code",
      "metadata": {
        "colab": {
          "background_save": true
        },
        "id": "F4pYQj85toEV",
        "outputId": "fe4a212d-244f-4f7c-fb4a-a87ee6667b39"
      },
      "source": [
        "train_df['refurl_cr'][1]"
      ],
      "execution_count": null,
      "outputs": [
        {
          "data": {
            "application/vnd.google.colaboratory.intrinsic+json": {
              "type": "string"
            },
            "text/plain": [
              "'https%3A%2F%2Fwww.cricbuzz.com%2Flive-cricket-scores%2F32278%2Find-vs-eng-4th-t20i-england-tour-of-india-2021'"
            ]
          },
          "execution_count": null,
          "metadata": {},
          "output_type": "execute_result"
        }
      ]
    },
    {
      "cell_type": "code",
      "metadata": {
        "colab": {
          "background_save": true
        },
        "id": "PEulQ0fYtoEW",
        "outputId": "f1fc0476-a543-4b76-9491-fd53b6f233fd"
      },
      "source": [
        "train_df['allAudiences_cr']"
      ],
      "execution_count": null,
      "outputs": [
        {
          "data": {
            "text/plain": [
              "0      7dn,6hs,35g,ome,omf,l32,nqo,2ws,qqo,lo4,oos,2w...\n",
              "1      h9r,35j,7dx,592,lo4,5o2,gau,75y,k8l,2ve,k8p,8k...\n",
              "2      7dn,oy7,nqo,41j,2ws,lo4,oos,oou,apc,5o2,o6b,ox...\n",
              "3      p1b,7dn,6hs,jyq,35g,h98,oul,nqo,2ws,lo4,p12,2w...\n",
              "4                                                761,75y\n",
              "                             ...                        \n",
              "960    7dm,jyq,8h4,k1m,nyw,lo4,nqv,o1w,o1v,apc,o1y,o1...\n",
              "961    jyq,ige,33h,41f,mss,oy7,nyw,oy9,lo4,ii1,nqx,o1...\n",
              "962                                                  9nj\n",
              "963                                          hkf,9nj,5xq\n",
              "964                                          hkf,9nj,5xq\n",
              "Name: allAudiences_cr, Length: 965, dtype: object"
            ]
          },
          "execution_count": null,
          "metadata": {},
          "output_type": "execute_result"
        }
      ]
    },
    {
      "cell_type": "code",
      "metadata": {
        "colab": {
          "background_save": true
        },
        "id": "w3i4bjHNtoEX",
        "outputId": "cdc4d5fd-687e-4909-e0b2-ccf230e3bfe8"
      },
      "source": [
        "len(train_df['allAudiences_cr'].unique())"
      ],
      "execution_count": null,
      "outputs": [
        {
          "data": {
            "text/plain": [
              "820"
            ]
          },
          "execution_count": null,
          "metadata": {},
          "output_type": "execute_result"
        }
      ]
    },
    {
      "cell_type": "markdown",
      "metadata": {
        "id": "bXLk58mQtoEY"
      },
      "source": [
        "#### Again We need to drop these unwanted features"
      ]
    },
    {
      "cell_type": "code",
      "metadata": {
        "colab": {
          "background_save": true
        },
        "id": "J_JIqH2KtoEY"
      },
      "source": [
        "cols_not_needed = ['refurl_cr', 'allAudiences_cr']"
      ],
      "execution_count": null,
      "outputs": []
    },
    {
      "cell_type": "code",
      "metadata": {
        "colab": {
          "background_save": true
        },
        "id": "0ETjnPb5toEZ"
      },
      "source": [
        "train_df.drop(cols_not_needed, axis=\"columns\", inplace=True)"
      ],
      "execution_count": null,
      "outputs": []
    },
    {
      "cell_type": "markdown",
      "metadata": {
        "id": "3vxoJnbitoEZ"
      },
      "source": [
        "We need to convert the feature 'connTypeDimId_cr' from object to float"
      ]
    },
    {
      "cell_type": "code",
      "metadata": {
        "colab": {
          "background_save": true
        },
        "id": "6mZkzIr6toEa"
      },
      "source": [
        "train_df['connTypeDimId_cr'] = pd.to_numeric(train_df['connTypeDimId_cr'], errors='coerce')"
      ],
      "execution_count": null,
      "outputs": []
    },
    {
      "cell_type": "markdown",
      "metadata": {
        "id": "Op-xb8hjtoEa"
      },
      "source": [
        "Seems this feature 'connTypeDimId_cr' is having few missing values let's fill it"
      ]
    },
    {
      "cell_type": "code",
      "metadata": {
        "colab": {
          "background_save": true
        },
        "id": "HCMxyJOItoEb",
        "outputId": "15341346-e8b8-41d6-d014-c32fd340d8b8"
      },
      "source": [
        "train_df['connTypeDimId_cr'].isnull().mean()*100"
      ],
      "execution_count": null,
      "outputs": [
        {
          "data": {
            "text/plain": [
              "0.7253886010362695"
            ]
          },
          "execution_count": null,
          "metadata": {},
          "output_type": "execute_result"
        }
      ]
    },
    {
      "cell_type": "code",
      "metadata": {
        "colab": {
          "background_save": true
        },
        "id": "P02YL1pNtoEc",
        "scrolled": false,
        "outputId": "cdec5e0f-5d7b-4f43-e753-7a9fd88abf65"
      },
      "source": [
        "train_df.dtypes"
      ],
      "execution_count": null,
      "outputs": [
        {
          "data": {
            "text/plain": [
              "clientid_cr                        int64\n",
              "conversiontime_cr                float64\n",
              "adslotdimid_cr                     int64\n",
              "algo_cr                          float64\n",
              "clickbid_cr                      float64\n",
              "geodimid_cr                        int64\n",
              "itemcolumbiaid_cr                  int64\n",
              "itemid_cr                          int64\n",
              "position_cr                      float64\n",
              "pubclientid_cr                     int64\n",
              "siteId_cr                          int64\n",
              "templateid_cr                    float64\n",
              "goalid_cr                          int64\n",
              "time_cr                          float64\n",
              "adLogType_cr                       int64\n",
              "v_cr                             float64\n",
              "pricingtype_cr                     int64\n",
              "osId_cr                          float64\n",
              "browserId_cr                     float64\n",
              "cityId_cr                        float64\n",
              "stateId_cr                       float64\n",
              "modelDimId_cr                    float64\n",
              "connTypeDimId_cr                 float64\n",
              "ispDimId_cr                      float64\n",
              "countryDimId_cr                  float64\n",
              "goalTypeId_cr                      int64\n",
              "conversionDurationInMillis_cr    float64\n",
              "impressionTimeInMillis_cr        float64\n",
              "osVerDimId_cr                    float64\n",
              "uuidSource_cr                    float64\n",
              "stateGrpDimId_cr                 float64\n",
              "cityGrpDimId_cr                  float64\n",
              "conversion_fraud                    bool\n",
              "dtype: object"
            ]
          },
          "execution_count": null,
          "metadata": {},
          "output_type": "execute_result"
        }
      ]
    },
    {
      "cell_type": "markdown",
      "metadata": {
        "id": "VuZocR3ftoEd"
      },
      "source": [
        "#### Seems that the feature connTypeDimId_cr has few missing values"
      ]
    },
    {
      "cell_type": "code",
      "metadata": {
        "colab": {
          "background_save": true
        },
        "id": "Sivz1McXtoEe",
        "scrolled": true,
        "outputId": "f7400af1-a973-48f4-feef-ca09279cb9bb"
      },
      "source": [
        "train_df[pd.to_numeric(train_df.connTypeDimId_cr,errors='coerce').isnull()==True]"
      ],
      "execution_count": null,
      "outputs": [
        {
          "data": {
            "text/html": [
              "<div>\n",
              "<style scoped>\n",
              "    .dataframe tbody tr th:only-of-type {\n",
              "        vertical-align: middle;\n",
              "    }\n",
              "\n",
              "    .dataframe tbody tr th {\n",
              "        vertical-align: top;\n",
              "    }\n",
              "\n",
              "    .dataframe thead th {\n",
              "        text-align: right;\n",
              "    }\n",
              "</style>\n",
              "<table border=\"1\" class=\"dataframe\">\n",
              "  <thead>\n",
              "    <tr style=\"text-align: right;\">\n",
              "      <th></th>\n",
              "      <th>clientid_cr</th>\n",
              "      <th>conversiontime_cr</th>\n",
              "      <th>adslotdimid_cr</th>\n",
              "      <th>algo_cr</th>\n",
              "      <th>clickbid_cr</th>\n",
              "      <th>geodimid_cr</th>\n",
              "      <th>itemcolumbiaid_cr</th>\n",
              "      <th>itemid_cr</th>\n",
              "      <th>position_cr</th>\n",
              "      <th>pubclientid_cr</th>\n",
              "      <th>siteId_cr</th>\n",
              "      <th>templateid_cr</th>\n",
              "      <th>goalid_cr</th>\n",
              "      <th>time_cr</th>\n",
              "      <th>adLogType_cr</th>\n",
              "      <th>v_cr</th>\n",
              "      <th>pricingtype_cr</th>\n",
              "      <th>osId_cr</th>\n",
              "      <th>browserId_cr</th>\n",
              "      <th>cityId_cr</th>\n",
              "      <th>stateId_cr</th>\n",
              "      <th>modelDimId_cr</th>\n",
              "      <th>connTypeDimId_cr</th>\n",
              "      <th>ispDimId_cr</th>\n",
              "      <th>countryDimId_cr</th>\n",
              "      <th>goalTypeId_cr</th>\n",
              "      <th>conversionDurationInMillis_cr</th>\n",
              "      <th>impressionTimeInMillis_cr</th>\n",
              "      <th>osVerDimId_cr</th>\n",
              "      <th>uuidSource_cr</th>\n",
              "      <th>stateGrpDimId_cr</th>\n",
              "      <th>cityGrpDimId_cr</th>\n",
              "      <th>conversion_fraud</th>\n",
              "    </tr>\n",
              "  </thead>\n",
              "  <tbody>\n",
              "    <tr>\n",
              "      <th>203</th>\n",
              "      <td>29892</td>\n",
              "      <td>1.620000e+12</td>\n",
              "      <td>334766</td>\n",
              "      <td>33.0</td>\n",
              "      <td>2.79</td>\n",
              "      <td>433</td>\n",
              "      <td>5592344</td>\n",
              "      <td>53924039</td>\n",
              "      <td>1.0</td>\n",
              "      <td>76969</td>\n",
              "      <td>2923</td>\n",
              "      <td>4745.0</td>\n",
              "      <td>469</td>\n",
              "      <td>1.620000e+12</td>\n",
              "      <td>1</td>\n",
              "      <td>1.0</td>\n",
              "      <td>16</td>\n",
              "      <td>129311.0</td>\n",
              "      <td>129433.0</td>\n",
              "      <td>2942.0</td>\n",
              "      <td>2929.0</td>\n",
              "      <td>0.0</td>\n",
              "      <td>NaN</td>\n",
              "      <td>0.0</td>\n",
              "      <td>433.0</td>\n",
              "      <td>10</td>\n",
              "      <td>3670493.0</td>\n",
              "      <td>1.620000e+12</td>\n",
              "      <td>360833.0</td>\n",
              "      <td>3.0</td>\n",
              "      <td>348021.0</td>\n",
              "      <td>348009.0</td>\n",
              "      <td>False</td>\n",
              "    </tr>\n",
              "    <tr>\n",
              "      <th>309</th>\n",
              "      <td>25470</td>\n",
              "      <td>1.620000e+12</td>\n",
              "      <td>236059</td>\n",
              "      <td>2.0</td>\n",
              "      <td>2.79</td>\n",
              "      <td>144</td>\n",
              "      <td>5617958</td>\n",
              "      <td>53924418</td>\n",
              "      <td>10.0</td>\n",
              "      <td>15240</td>\n",
              "      <td>283</td>\n",
              "      <td>2936.0</td>\n",
              "      <td>10553</td>\n",
              "      <td>1.620000e+12</td>\n",
              "      <td>1</td>\n",
              "      <td>1.0</td>\n",
              "      <td>17</td>\n",
              "      <td>129311.0</td>\n",
              "      <td>129433.0</td>\n",
              "      <td>439.0</td>\n",
              "      <td>1815.0</td>\n",
              "      <td>0.0</td>\n",
              "      <td>NaN</td>\n",
              "      <td>136127.0</td>\n",
              "      <td>144.0</td>\n",
              "      <td>10</td>\n",
              "      <td>19311004.0</td>\n",
              "      <td>1.620000e+12</td>\n",
              "      <td>360833.0</td>\n",
              "      <td>3.0</td>\n",
              "      <td>348023.0</td>\n",
              "      <td>348007.0</td>\n",
              "      <td>False</td>\n",
              "    </tr>\n",
              "    <tr>\n",
              "      <th>422</th>\n",
              "      <td>2139</td>\n",
              "      <td>1.620000e+12</td>\n",
              "      <td>195755</td>\n",
              "      <td>18.0</td>\n",
              "      <td>10.00</td>\n",
              "      <td>144</td>\n",
              "      <td>5610374</td>\n",
              "      <td>53184763</td>\n",
              "      <td>2.0</td>\n",
              "      <td>7268</td>\n",
              "      <td>85</td>\n",
              "      <td>1042.0</td>\n",
              "      <td>722</td>\n",
              "      <td>1.620000e+12</td>\n",
              "      <td>1</td>\n",
              "      <td>1.0</td>\n",
              "      <td>6</td>\n",
              "      <td>129311.0</td>\n",
              "      <td>129433.0</td>\n",
              "      <td>10278.0</td>\n",
              "      <td>1808.0</td>\n",
              "      <td>0.0</td>\n",
              "      <td>NaN</td>\n",
              "      <td>136127.0</td>\n",
              "      <td>144.0</td>\n",
              "      <td>10</td>\n",
              "      <td>684436.0</td>\n",
              "      <td>1.620000e+12</td>\n",
              "      <td>359921.0</td>\n",
              "      <td>3.0</td>\n",
              "      <td>348020.0</td>\n",
              "      <td>348006.0</td>\n",
              "      <td>False</td>\n",
              "    </tr>\n",
              "    <tr>\n",
              "      <th>630</th>\n",
              "      <td>31365</td>\n",
              "      <td>1.620000e+12</td>\n",
              "      <td>195755</td>\n",
              "      <td>18.0</td>\n",
              "      <td>0.90</td>\n",
              "      <td>144</td>\n",
              "      <td>5616679</td>\n",
              "      <td>53930184</td>\n",
              "      <td>2.0</td>\n",
              "      <td>7268</td>\n",
              "      <td>85</td>\n",
              "      <td>1042.0</td>\n",
              "      <td>4265</td>\n",
              "      <td>1.620000e+12</td>\n",
              "      <td>1</td>\n",
              "      <td>1.0</td>\n",
              "      <td>16</td>\n",
              "      <td>129311.0</td>\n",
              "      <td>129433.0</td>\n",
              "      <td>437.0</td>\n",
              "      <td>1808.0</td>\n",
              "      <td>0.0</td>\n",
              "      <td>NaN</td>\n",
              "      <td>280429.0</td>\n",
              "      <td>144.0</td>\n",
              "      <td>10</td>\n",
              "      <td>13152725.0</td>\n",
              "      <td>1.620000e+12</td>\n",
              "      <td>360833.0</td>\n",
              "      <td>3.0</td>\n",
              "      <td>348020.0</td>\n",
              "      <td>348006.0</td>\n",
              "      <td>False</td>\n",
              "    </tr>\n",
              "    <tr>\n",
              "      <th>676</th>\n",
              "      <td>25470</td>\n",
              "      <td>1.620000e+12</td>\n",
              "      <td>355148</td>\n",
              "      <td>38.0</td>\n",
              "      <td>2.79</td>\n",
              "      <td>144</td>\n",
              "      <td>5614752</td>\n",
              "      <td>53924415</td>\n",
              "      <td>1.0</td>\n",
              "      <td>2316</td>\n",
              "      <td>76</td>\n",
              "      <td>2495.0</td>\n",
              "      <td>10553</td>\n",
              "      <td>1.620000e+12</td>\n",
              "      <td>1</td>\n",
              "      <td>1.0</td>\n",
              "      <td>17</td>\n",
              "      <td>129311.0</td>\n",
              "      <td>129433.0</td>\n",
              "      <td>10243.0</td>\n",
              "      <td>1803.0</td>\n",
              "      <td>0.0</td>\n",
              "      <td>NaN</td>\n",
              "      <td>280429.0</td>\n",
              "      <td>144.0</td>\n",
              "      <td>10</td>\n",
              "      <td>44955769.0</td>\n",
              "      <td>1.620000e+12</td>\n",
              "      <td>359921.0</td>\n",
              "      <td>3.0</td>\n",
              "      <td>348026.0</td>\n",
              "      <td>348008.0</td>\n",
              "      <td>False</td>\n",
              "    </tr>\n",
              "    <tr>\n",
              "      <th>681</th>\n",
              "      <td>31365</td>\n",
              "      <td>1.620000e+12</td>\n",
              "      <td>334762</td>\n",
              "      <td>18.0</td>\n",
              "      <td>2.79</td>\n",
              "      <td>144</td>\n",
              "      <td>5616679</td>\n",
              "      <td>53930182</td>\n",
              "      <td>1.0</td>\n",
              "      <td>76969</td>\n",
              "      <td>2923</td>\n",
              "      <td>4858.0</td>\n",
              "      <td>4265</td>\n",
              "      <td>1.620000e+12</td>\n",
              "      <td>1</td>\n",
              "      <td>1.0</td>\n",
              "      <td>16</td>\n",
              "      <td>129311.0</td>\n",
              "      <td>129433.0</td>\n",
              "      <td>437.0</td>\n",
              "      <td>1808.0</td>\n",
              "      <td>0.0</td>\n",
              "      <td>NaN</td>\n",
              "      <td>280429.0</td>\n",
              "      <td>144.0</td>\n",
              "      <td>10</td>\n",
              "      <td>13239231.0</td>\n",
              "      <td>1.620000e+12</td>\n",
              "      <td>359921.0</td>\n",
              "      <td>3.0</td>\n",
              "      <td>348020.0</td>\n",
              "      <td>348006.0</td>\n",
              "      <td>False</td>\n",
              "    </tr>\n",
              "    <tr>\n",
              "      <th>774</th>\n",
              "      <td>29892</td>\n",
              "      <td>1.620000e+12</td>\n",
              "      <td>355148</td>\n",
              "      <td>18.0</td>\n",
              "      <td>2.79</td>\n",
              "      <td>144</td>\n",
              "      <td>5583264</td>\n",
              "      <td>53924038</td>\n",
              "      <td>1.0</td>\n",
              "      <td>2316</td>\n",
              "      <td>76</td>\n",
              "      <td>2495.0</td>\n",
              "      <td>469</td>\n",
              "      <td>1.620000e+12</td>\n",
              "      <td>1</td>\n",
              "      <td>1.0</td>\n",
              "      <td>16</td>\n",
              "      <td>129311.0</td>\n",
              "      <td>129433.0</td>\n",
              "      <td>0.0</td>\n",
              "      <td>2518.0</td>\n",
              "      <td>0.0</td>\n",
              "      <td>NaN</td>\n",
              "      <td>147211.0</td>\n",
              "      <td>144.0</td>\n",
              "      <td>10</td>\n",
              "      <td>2146992.0</td>\n",
              "      <td>1.620000e+12</td>\n",
              "      <td>359921.0</td>\n",
              "      <td>3.0</td>\n",
              "      <td>348022.0</td>\n",
              "      <td>348007.0</td>\n",
              "      <td>False</td>\n",
              "    </tr>\n",
              "  </tbody>\n",
              "</table>\n",
              "</div>"
            ],
            "text/plain": [
              "     clientid_cr  conversiontime_cr  ...  cityGrpDimId_cr  conversion_fraud\n",
              "203        29892       1.620000e+12  ...         348009.0             False\n",
              "309        25470       1.620000e+12  ...         348007.0             False\n",
              "422         2139       1.620000e+12  ...         348006.0             False\n",
              "630        31365       1.620000e+12  ...         348006.0             False\n",
              "676        25470       1.620000e+12  ...         348008.0             False\n",
              "681        31365       1.620000e+12  ...         348006.0             False\n",
              "774        29892       1.620000e+12  ...         348007.0             False\n",
              "\n",
              "[7 rows x 33 columns]"
            ]
          },
          "execution_count": null,
          "metadata": {},
          "output_type": "execute_result"
        }
      ]
    },
    {
      "cell_type": "code",
      "metadata": {
        "colab": {
          "background_save": true
        },
        "id": "-58_s3xStoEf",
        "outputId": "a3e02d4b-fc96-4827-c083-5f7be58c3bbd"
      },
      "source": [
        "len(train_df[pd.to_numeric(train_df.connTypeDimId_cr,errors='coerce').isnull()==True])"
      ],
      "execution_count": null,
      "outputs": [
        {
          "data": {
            "text/plain": [
              "7"
            ]
          },
          "execution_count": null,
          "metadata": {},
          "output_type": "execute_result"
        }
      ]
    },
    {
      "cell_type": "code",
      "metadata": {
        "colab": {
          "background_save": true
        },
        "id": "1EE7jDYVtoEg"
      },
      "source": [
        "impute_nan(train_df, 'connTypeDimId_cr')"
      ],
      "execution_count": null,
      "outputs": []
    },
    {
      "cell_type": "code",
      "metadata": {
        "colab": {
          "background_save": true
        },
        "id": "KXSP8qpltoEg",
        "outputId": "c8e7feba-882b-4d3b-85f3-f05852011d15"
      },
      "source": [
        "train_df['connTypeDimId_cr'].isnull().mean()"
      ],
      "execution_count": null,
      "outputs": [
        {
          "data": {
            "text/plain": [
              "0.0"
            ]
          },
          "execution_count": null,
          "metadata": {},
          "output_type": "execute_result"
        }
      ]
    },
    {
      "cell_type": "code",
      "metadata": {
        "colab": {
          "background_save": true
        },
        "id": "GFS8NiP7toEh",
        "outputId": "d32b9d67-4c69-4a19-8952-191c21d54367"
      },
      "source": [
        "train_df.dtypes"
      ],
      "execution_count": null,
      "outputs": [
        {
          "data": {
            "text/plain": [
              "clientid_cr                        int64\n",
              "conversiontime_cr                float64\n",
              "adslotdimid_cr                     int64\n",
              "algo_cr                          float64\n",
              "clickbid_cr                      float64\n",
              "geodimid_cr                        int64\n",
              "itemcolumbiaid_cr                  int64\n",
              "itemid_cr                          int64\n",
              "position_cr                      float64\n",
              "pubclientid_cr                     int64\n",
              "siteId_cr                          int64\n",
              "templateid_cr                    float64\n",
              "goalid_cr                          int64\n",
              "time_cr                          float64\n",
              "adLogType_cr                       int64\n",
              "v_cr                             float64\n",
              "pricingtype_cr                     int64\n",
              "osId_cr                          float64\n",
              "browserId_cr                     float64\n",
              "cityId_cr                        float64\n",
              "stateId_cr                       float64\n",
              "modelDimId_cr                    float64\n",
              "connTypeDimId_cr                 float64\n",
              "ispDimId_cr                      float64\n",
              "countryDimId_cr                  float64\n",
              "goalTypeId_cr                      int64\n",
              "conversionDurationInMillis_cr    float64\n",
              "impressionTimeInMillis_cr        float64\n",
              "osVerDimId_cr                    float64\n",
              "uuidSource_cr                    float64\n",
              "stateGrpDimId_cr                 float64\n",
              "cityGrpDimId_cr                  float64\n",
              "conversion_fraud                    bool\n",
              "dtype: object"
            ]
          },
          "execution_count": null,
          "metadata": {},
          "output_type": "execute_result"
        }
      ]
    },
    {
      "cell_type": "code",
      "metadata": {
        "colab": {
          "background_save": true
        },
        "id": "U0m6JsputoEi",
        "outputId": "ce899bf7-4ad3-4704-cc3f-76fcc38d164b"
      },
      "source": [
        "train_df['connTypeDimId_cr'].dtypes"
      ],
      "execution_count": null,
      "outputs": [
        {
          "data": {
            "text/plain": [
              "dtype('float64')"
            ]
          },
          "execution_count": null,
          "metadata": {},
          "output_type": "execute_result"
        }
      ]
    },
    {
      "cell_type": "markdown",
      "metadata": {
        "id": "g6gaXZJqtoEj"
      },
      "source": [
        "### Feature Scaling"
      ]
    },
    {
      "cell_type": "code",
      "metadata": {
        "colab": {
          "background_save": true
        },
        "id": "Er8A2gBDtoEk"
      },
      "source": [
        "cols_to_scale = [feature for feature in train_df.columns if feature != 'conversion_fraud']\n",
        "\n",
        "from sklearn.preprocessing import MinMaxScaler\n",
        "scaler = MinMaxScaler()\n",
        "train_df[cols_to_scale] = scaler.fit_transform(train_df[cols_to_scale])"
      ],
      "execution_count": null,
      "outputs": []
    },
    {
      "cell_type": "code",
      "metadata": {
        "colab": {
          "background_save": true
        },
        "id": "lZauiqAptoEk",
        "outputId": "73c42515-12ae-4498-9def-25568c40e79d"
      },
      "source": [
        "train_df.head()"
      ],
      "execution_count": null,
      "outputs": [
        {
          "data": {
            "text/html": [
              "<div>\n",
              "<style scoped>\n",
              "    .dataframe tbody tr th:only-of-type {\n",
              "        vertical-align: middle;\n",
              "    }\n",
              "\n",
              "    .dataframe tbody tr th {\n",
              "        vertical-align: top;\n",
              "    }\n",
              "\n",
              "    .dataframe thead th {\n",
              "        text-align: right;\n",
              "    }\n",
              "</style>\n",
              "<table border=\"1\" class=\"dataframe\">\n",
              "  <thead>\n",
              "    <tr style=\"text-align: right;\">\n",
              "      <th></th>\n",
              "      <th>clientid_cr</th>\n",
              "      <th>conversiontime_cr</th>\n",
              "      <th>adslotdimid_cr</th>\n",
              "      <th>algo_cr</th>\n",
              "      <th>clickbid_cr</th>\n",
              "      <th>geodimid_cr</th>\n",
              "      <th>itemcolumbiaid_cr</th>\n",
              "      <th>itemid_cr</th>\n",
              "      <th>position_cr</th>\n",
              "      <th>pubclientid_cr</th>\n",
              "      <th>siteId_cr</th>\n",
              "      <th>templateid_cr</th>\n",
              "      <th>goalid_cr</th>\n",
              "      <th>time_cr</th>\n",
              "      <th>adLogType_cr</th>\n",
              "      <th>v_cr</th>\n",
              "      <th>pricingtype_cr</th>\n",
              "      <th>osId_cr</th>\n",
              "      <th>browserId_cr</th>\n",
              "      <th>cityId_cr</th>\n",
              "      <th>stateId_cr</th>\n",
              "      <th>modelDimId_cr</th>\n",
              "      <th>connTypeDimId_cr</th>\n",
              "      <th>ispDimId_cr</th>\n",
              "      <th>countryDimId_cr</th>\n",
              "      <th>goalTypeId_cr</th>\n",
              "      <th>conversionDurationInMillis_cr</th>\n",
              "      <th>impressionTimeInMillis_cr</th>\n",
              "      <th>osVerDimId_cr</th>\n",
              "      <th>uuidSource_cr</th>\n",
              "      <th>stateGrpDimId_cr</th>\n",
              "      <th>cityGrpDimId_cr</th>\n",
              "      <th>conversion_fraud</th>\n",
              "    </tr>\n",
              "  </thead>\n",
              "  <tbody>\n",
              "    <tr>\n",
              "      <th>0</th>\n",
              "      <td>0.873346</td>\n",
              "      <td>0.0</td>\n",
              "      <td>0.830089</td>\n",
              "      <td>0.001423</td>\n",
              "      <td>0.09359</td>\n",
              "      <td>0.0</td>\n",
              "      <td>0.944360</td>\n",
              "      <td>0.867568</td>\n",
              "      <td>1.225933e-09</td>\n",
              "      <td>0.027273</td>\n",
              "      <td>0.009414</td>\n",
              "      <td>0.642461</td>\n",
              "      <td>0.594697</td>\n",
              "      <td>0.0</td>\n",
              "      <td>1.0</td>\n",
              "      <td>0.0</td>\n",
              "      <td>0.909091</td>\n",
              "      <td>0.543669</td>\n",
              "      <td>0.661309</td>\n",
              "      <td>0.001256</td>\n",
              "      <td>0.005294</td>\n",
              "      <td>0.873648</td>\n",
              "      <td>0.222222</td>\n",
              "      <td>0.979856</td>\n",
              "      <td>0.0</td>\n",
              "      <td>0.0</td>\n",
              "      <td>8.463155e-07</td>\n",
              "      <td>1.0</td>\n",
              "      <td>0.551815</td>\n",
              "      <td>0.0</td>\n",
              "      <td>0.285714</td>\n",
              "      <td>0.4</td>\n",
              "      <td>True</td>\n",
              "    </tr>\n",
              "    <tr>\n",
              "      <th>1</th>\n",
              "      <td>0.873346</td>\n",
              "      <td>0.0</td>\n",
              "      <td>0.000527</td>\n",
              "      <td>0.001423</td>\n",
              "      <td>0.08982</td>\n",
              "      <td>0.0</td>\n",
              "      <td>0.944648</td>\n",
              "      <td>0.867568</td>\n",
              "      <td>1.225933e-09</td>\n",
              "      <td>0.179221</td>\n",
              "      <td>0.053143</td>\n",
              "      <td>0.000000</td>\n",
              "      <td>0.594697</td>\n",
              "      <td>0.0</td>\n",
              "      <td>1.0</td>\n",
              "      <td>0.0</td>\n",
              "      <td>0.909091</td>\n",
              "      <td>0.543669</td>\n",
              "      <td>0.661309</td>\n",
              "      <td>0.029716</td>\n",
              "      <td>0.005326</td>\n",
              "      <td>0.873648</td>\n",
              "      <td>0.222222</td>\n",
              "      <td>0.475646</td>\n",
              "      <td>0.0</td>\n",
              "      <td>0.0</td>\n",
              "      <td>1.191272e-06</td>\n",
              "      <td>1.0</td>\n",
              "      <td>0.551815</td>\n",
              "      <td>0.0</td>\n",
              "      <td>0.571429</td>\n",
              "      <td>1.0</td>\n",
              "      <td>True</td>\n",
              "    </tr>\n",
              "    <tr>\n",
              "      <th>2</th>\n",
              "      <td>0.873346</td>\n",
              "      <td>0.0</td>\n",
              "      <td>0.831186</td>\n",
              "      <td>0.000769</td>\n",
              "      <td>0.08982</td>\n",
              "      <td>0.0</td>\n",
              "      <td>0.944360</td>\n",
              "      <td>0.867568</td>\n",
              "      <td>1.225933e-09</td>\n",
              "      <td>0.027273</td>\n",
              "      <td>0.009414</td>\n",
              "      <td>0.643200</td>\n",
              "      <td>0.594697</td>\n",
              "      <td>0.0</td>\n",
              "      <td>1.0</td>\n",
              "      <td>0.0</td>\n",
              "      <td>0.909091</td>\n",
              "      <td>0.543669</td>\n",
              "      <td>0.661309</td>\n",
              "      <td>0.000000</td>\n",
              "      <td>0.005312</td>\n",
              "      <td>0.873648</td>\n",
              "      <td>1.000000</td>\n",
              "      <td>0.603524</td>\n",
              "      <td>0.0</td>\n",
              "      <td>0.0</td>\n",
              "      <td>1.040428e-06</td>\n",
              "      <td>1.0</td>\n",
              "      <td>0.551815</td>\n",
              "      <td>0.0</td>\n",
              "      <td>1.000000</td>\n",
              "      <td>0.0</td>\n",
              "      <td>True</td>\n",
              "    </tr>\n",
              "    <tr>\n",
              "      <th>3</th>\n",
              "      <td>0.873346</td>\n",
              "      <td>0.0</td>\n",
              "      <td>0.830089</td>\n",
              "      <td>0.001423</td>\n",
              "      <td>0.08982</td>\n",
              "      <td>0.0</td>\n",
              "      <td>0.944360</td>\n",
              "      <td>0.867568</td>\n",
              "      <td>1.225933e-09</td>\n",
              "      <td>0.027273</td>\n",
              "      <td>0.009414</td>\n",
              "      <td>0.642461</td>\n",
              "      <td>0.594697</td>\n",
              "      <td>0.0</td>\n",
              "      <td>1.0</td>\n",
              "      <td>0.0</td>\n",
              "      <td>0.909091</td>\n",
              "      <td>0.543669</td>\n",
              "      <td>0.661309</td>\n",
              "      <td>0.029676</td>\n",
              "      <td>0.005320</td>\n",
              "      <td>0.873648</td>\n",
              "      <td>0.222222</td>\n",
              "      <td>0.475646</td>\n",
              "      <td>0.0</td>\n",
              "      <td>0.0</td>\n",
              "      <td>1.168646e-06</td>\n",
              "      <td>1.0</td>\n",
              "      <td>0.551815</td>\n",
              "      <td>0.0</td>\n",
              "      <td>0.428571</td>\n",
              "      <td>0.4</td>\n",
              "      <td>True</td>\n",
              "    </tr>\n",
              "    <tr>\n",
              "      <th>4</th>\n",
              "      <td>0.345516</td>\n",
              "      <td>0.0</td>\n",
              "      <td>0.978965</td>\n",
              "      <td>0.000769</td>\n",
              "      <td>0.08982</td>\n",
              "      <td>0.0</td>\n",
              "      <td>0.997236</td>\n",
              "      <td>0.990331</td>\n",
              "      <td>1.225933e-09</td>\n",
              "      <td>0.000000</td>\n",
              "      <td>1.000000</td>\n",
              "      <td>0.000000</td>\n",
              "      <td>0.310276</td>\n",
              "      <td>0.0</td>\n",
              "      <td>1.0</td>\n",
              "      <td>0.0</td>\n",
              "      <td>1.000000</td>\n",
              "      <td>0.358580</td>\n",
              "      <td>0.660130</td>\n",
              "      <td>0.000000</td>\n",
              "      <td>0.005329</td>\n",
              "      <td>0.000000</td>\n",
              "      <td>0.222222</td>\n",
              "      <td>0.475646</td>\n",
              "      <td>0.0</td>\n",
              "      <td>0.0</td>\n",
              "      <td>1.682985e-05</td>\n",
              "      <td>1.0</td>\n",
              "      <td>0.998301</td>\n",
              "      <td>0.0</td>\n",
              "      <td>0.714286</td>\n",
              "      <td>0.4</td>\n",
              "      <td>True</td>\n",
              "    </tr>\n",
              "  </tbody>\n",
              "</table>\n",
              "</div>"
            ],
            "text/plain": [
              "   clientid_cr  conversiontime_cr  ...  cityGrpDimId_cr  conversion_fraud\n",
              "0     0.873346                0.0  ...              0.4              True\n",
              "1     0.873346                0.0  ...              1.0              True\n",
              "2     0.873346                0.0  ...              0.0              True\n",
              "3     0.873346                0.0  ...              0.4              True\n",
              "4     0.345516                0.0  ...              0.4              True\n",
              "\n",
              "[5 rows x 33 columns]"
            ]
          },
          "execution_count": null,
          "metadata": {},
          "output_type": "execute_result"
        }
      ]
    },
    {
      "cell_type": "code",
      "metadata": {
        "colab": {
          "background_save": true
        },
        "id": "9gHx-6C_toEm",
        "scrolled": true,
        "outputId": "bba8839c-3f10-4140-8824-2bc587a1db44"
      },
      "source": [
        "train_df['conversion_fraud'].value_counts()"
      ],
      "execution_count": null,
      "outputs": [
        {
          "data": {
            "text/plain": [
              "False    834\n",
              "True     131\n",
              "Name: conversion_fraud, dtype: int64"
            ]
          },
          "execution_count": null,
          "metadata": {},
          "output_type": "execute_result"
        }
      ]
    },
    {
      "cell_type": "code",
      "metadata": {
        "colab": {
          "background_save": true
        },
        "id": "_zSlHrIitoEn",
        "scrolled": false,
        "outputId": "902979c6-8c04-4de2-fb3a-b45c7e5ef6b7"
      },
      "source": [
        "sns.set_theme(style=\"darkgrid\")\n",
        "sns.countplot(train_df['conversion_fraud'], palette='Set1')\n",
        "plt.xlabel('conversion_fraud', size = 15)\n",
        "plt.show()"
      ],
      "execution_count": null,
      "outputs": [
        {
          "name": "stderr",
          "output_type": "stream",
          "text": [
            "/usr/local/lib/python3.7/dist-packages/seaborn/_decorators.py:43: FutureWarning: Pass the following variable as a keyword arg: x. From version 0.12, the only valid positional argument will be `data`, and passing other arguments without an explicit keyword will result in an error or misinterpretation.\n",
            "  FutureWarning\n"
          ]
        },
        {
          "data": {
            "image/png": "[encoded data removed]",
            "text/plain": [
              "<Figure size 432x288 with 1 Axes>"
            ]
          },
          "metadata": {},
          "output_type": "display_data"
        }
      ]
    },
    {
      "cell_type": "markdown",
      "metadata": {
        "id": "EJ6vQYkVtoEo"
      },
      "source": [
        "#### Seems our dataset is imbalanced"
      ]
    },
    {
      "cell_type": "code",
      "metadata": {
        "colab": {
          "background_save": true
        },
        "id": "oC-6Wjj5toEo"
      },
      "source": [
        "train_df['conversion_fraud'].replace({True:1, False:0}, inplace=True)"
      ],
      "execution_count": null,
      "outputs": []
    },
    {
      "cell_type": "code",
      "metadata": {
        "colab": {
          "background_save": true
        },
        "id": "8PN02onytoEp"
      },
      "source": [
        "X = train_df.drop('conversion_fraud', axis=\"columns\")\n",
        "y = train_df['conversion_fraud']"
      ],
      "execution_count": null,
      "outputs": []
    },
    {
      "cell_type": "markdown",
      "metadata": {
        "id": "3lXy-YjGtoEq"
      },
      "source": [
        "#### Balancing the dataset"
      ]
    },
    {
      "cell_type": "code",
      "metadata": {
        "colab": {
          "background_save": true
        },
        "id": "ReIpjlNxtoEq",
        "scrolled": true,
        "outputId": "f3e83d26-2aa1-4941-8fd5-2e4802355075"
      },
      "source": [
        "from imblearn.combine import SMOTETomek\n",
        "smk = SMOTETomek(random_state=42)\n",
        "X,y = smk.fit_resample(X, y)"
      ],
      "execution_count": null,
      "outputs": [
        {
          "name": "stderr",
          "output_type": "stream",
          "text": [
            "/usr/local/lib/python3.7/dist-packages/sklearn/externals/six.py:31: FutureWarning: The module is deprecated in version 0.21 and will be removed in version 0.23 since we've dropped support for Python 2.7. Please rely on the official version of six (https://pypi.org/project/six/).\n",
            "  \"(https://pypi.org/project/six/).\", FutureWarning)\n",
            "/usr/local/lib/python3.7/dist-packages/sklearn/utils/deprecation.py:144: FutureWarning: The sklearn.neighbors.base module is  deprecated in version 0.22 and will be removed in version 0.24. The corresponding classes / functions should instead be imported from sklearn.neighbors. Anything that cannot be imported from sklearn.neighbors is now part of the private API.\n",
            "  warnings.warn(message, FutureWarning)\n",
            "/usr/local/lib/python3.7/dist-packages/sklearn/utils/deprecation.py:87: FutureWarning: Function safe_indexing is deprecated; safe_indexing is deprecated in version 0.22 and will be removed in version 0.24.\n",
            "  warnings.warn(msg, category=FutureWarning)\n",
            "/usr/local/lib/python3.7/dist-packages/sklearn/utils/deprecation.py:87: FutureWarning: Function safe_indexing is deprecated; safe_indexing is deprecated in version 0.22 and will be removed in version 0.24.\n",
            "  warnings.warn(msg, category=FutureWarning)\n"
          ]
        }
      ]
    },
    {
      "cell_type": "code",
      "metadata": {
        "colab": {
          "background_save": true
        },
        "id": "G33WlgmctoEr",
        "outputId": "1cfb9d05-12af-4bb1-a205-ab445a72a0f7"
      },
      "source": [
        "sns.set_theme(style=\"darkgrid\")\n",
        "sns.countplot(y, palette='Set1')\n",
        "plt.xlabel('conversion_fraud', size = 15)\n",
        "plt.show()"
      ],
      "execution_count": null,
      "outputs": [
        {
          "name": "stderr",
          "output_type": "stream",
          "text": [
            "/usr/local/lib/python3.7/dist-packages/seaborn/_decorators.py:43: FutureWarning: Pass the following variable as a keyword arg: x. From version 0.12, the only valid positional argument will be `data`, and passing other arguments without an explicit keyword will result in an error or misinterpretation.\n",
            "  FutureWarning\n"
          ]
        },
        {
          "data": {
            "image/png": "[encoded data removed]",
            "text/plain": [
              "<Figure size 432x288 with 1 Axes>"
            ]
          },
          "metadata": {},
          "output_type": "display_data"
        }
      ]
    },
    {
      "cell_type": "markdown",
      "metadata": {
        "id": "QFq0vaFUtoEt"
      },
      "source": [
        "##### Now our dataset is balanced"
      ]
    },
    {
      "cell_type": "markdown",
      "metadata": {
        "id": "Cr6zdFNetoEu"
      },
      "source": [
        "### Train test split"
      ]
    },
    {
      "cell_type": "code",
      "metadata": {
        "colab": {
          "background_save": true
        },
        "id": "WKFdVZs4toEu"
      },
      "source": [
        "from sklearn.model_selection import train_test_split\n",
        "X_train, X_test, y_train, y_test = train_test_split(X,y,test_size=0.2,random_state=5)"
      ],
      "execution_count": null,
      "outputs": []
    },
    {
      "cell_type": "code",
      "metadata": {
        "colab": {
          "background_save": true
        },
        "id": "ummmh7AItoEv",
        "scrolled": false,
        "outputId": "b14851ae-4ba5-484f-9016-f0b9d2707b8c"
      },
      "source": [
        "X_train"
      ],
      "execution_count": null,
      "outputs": [
        {
          "data": {
            "text/plain": [
              "array([[0.34551561, 0.        , 0.97896519, ..., 0.        , 0.71428571,\n",
              "        0.76692543],\n",
              "       [0.87334554, 0.        , 0.83805438, ..., 0.        , 0.27775236,\n",
              "        0.3777066 ],\n",
              "       [0.74383403, 0.        , 0.97896519, ..., 0.        , 0.14285714,\n",
              "        0.        ],\n",
              "       ...,\n",
              "       [0.87334554, 0.        , 0.83008885, ..., 0.        , 0.41726749,\n",
              "        0.4       ],\n",
              "       [0.74383403, 0.        , 0.97896519, ..., 0.        , 0.57142857,\n",
              "        1.        ],\n",
              "       [0.87334554, 0.        , 0.87968694, ..., 0.        , 0.14285714,\n",
              "        0.        ]])"
            ]
          },
          "execution_count": null,
          "metadata": {},
          "output_type": "execute_result"
        }
      ]
    },
    {
      "cell_type": "code",
      "metadata": {
        "colab": {
          "background_save": true
        },
        "id": "ntnTOplHtoEw",
        "outputId": "09dc601e-e259-4cd1-c742-5eb075b58e98"
      },
      "source": [
        "X.shape"
      ],
      "execution_count": null,
      "outputs": [
        {
          "data": {
            "text/plain": [
              "(1658, 32)"
            ]
          },
          "execution_count": null,
          "metadata": {},
          "output_type": "execute_result"
        }
      ]
    },
    {
      "cell_type": "markdown",
      "metadata": {
        "id": "kbsckhB_toE2"
      },
      "source": [
        "## Hyper Parameter Tuning for Machine Learning algorithms"
      ]
    },
    {
      "cell_type": "markdown",
      "metadata": {
        "id": "Owa7ehpxtoE3"
      },
      "source": [
        "### Logistic Regression"
      ]
    },
    {
      "cell_type": "code",
      "metadata": {
        "colab": {
          "background_save": true
        },
        "id": "G20tJnOL-DZy"
      },
      "source": [
        "acc=[]\n",
        "model=[]"
      ],
      "execution_count": null,
      "outputs": []
    },
    {
      "cell_type": "code",
      "metadata": {
        "colab": {
          "background_save": true
        },
        "id": "xX15Th8ktoE3"
      },
      "source": [
        "from sklearn.model_selection import cross_val_score\n",
        "from sklearn.linear_model import LogisticRegression"
      ],
      "execution_count": null,
      "outputs": []
    },
    {
      "cell_type": "code",
      "metadata": {
        "colab": {
          "background_save": true
        },
        "id": "VGDM-70ltoE4",
        "scrolled": false,
        "outputId": "7c9fc707-9295-4444-99ab-afa6b02a2349"
      },
      "source": [
        "lr_score = cross_val_score(LogisticRegression(), X, y, cv=10)\n",
        "lr_score.mean()"
      ],
      "execution_count": null,
      "outputs": [
        {
          "name": "stderr",
          "output_type": "stream",
          "text": [
            "/usr/local/lib/python3.7/dist-packages/sklearn/linear_model/_logistic.py:940: ConvergenceWarning: lbfgs failed to converge (status=1):\n",
            "STOP: TOTAL NO. of ITERATIONS REACHED LIMIT.\n",
            "\n",
            "Increase the number of iterations (max_iter) or scale the data as shown in:\n",
            "    https://scikit-learn.org/stable/modules/preprocessing.html\n",
            "Please also refer to the documentation for alternative solver options:\n",
            "    https://scikit-learn.org/stable/modules/linear_model.html#logistic-regression\n",
            "  extra_warning_msg=_LOGISTIC_SOLVER_CONVERGENCE_MSG)\n",
            "/usr/local/lib/python3.7/dist-packages/sklearn/linear_model/_logistic.py:940: ConvergenceWarning: lbfgs failed to converge (status=1):\n",
            "STOP: TOTAL NO. of ITERATIONS REACHED LIMIT.\n",
            "\n",
            "Increase the number of iterations (max_iter) or scale the data as shown in:\n",
            "    https://scikit-learn.org/stable/modules/preprocessing.html\n",
            "Please also refer to the documentation for alternative solver options:\n",
            "    https://scikit-learn.org/stable/modules/linear_model.html#logistic-regression\n",
            "  extra_warning_msg=_LOGISTIC_SOLVER_CONVERGENCE_MSG)\n",
            "/usr/local/lib/python3.7/dist-packages/sklearn/linear_model/_logistic.py:940: ConvergenceWarning: lbfgs failed to converge (status=1):\n",
            "STOP: TOTAL NO. of ITERATIONS REACHED LIMIT.\n",
            "\n",
            "Increase the number of iterations (max_iter) or scale the data as shown in:\n",
            "    https://scikit-learn.org/stable/modules/preprocessing.html\n",
            "Please also refer to the documentation for alternative solver options:\n",
            "    https://scikit-learn.org/stable/modules/linear_model.html#logistic-regression\n",
            "  extra_warning_msg=_LOGISTIC_SOLVER_CONVERGENCE_MSG)\n",
            "/usr/local/lib/python3.7/dist-packages/sklearn/linear_model/_logistic.py:940: ConvergenceWarning: lbfgs failed to converge (status=1):\n",
            "STOP: TOTAL NO. of ITERATIONS REACHED LIMIT.\n",
            "\n",
            "Increase the number of iterations (max_iter) or scale the data as shown in:\n",
            "    https://scikit-learn.org/stable/modules/preprocessing.html\n",
            "Please also refer to the documentation for alternative solver options:\n",
            "    https://scikit-learn.org/stable/modules/linear_model.html#logistic-regression\n",
            "  extra_warning_msg=_LOGISTIC_SOLVER_CONVERGENCE_MSG)\n"
          ]
        },
        {
          "data": {
            "text/plain": [
              "0.7087039065352319"
            ]
          },
          "execution_count": null,
          "metadata": {},
          "output_type": "execute_result"
        }
      ]
    },
    {
      "cell_type": "code",
      "metadata": {
        "colab": {
          "background_save": true
        },
        "id": "UHghRAVh-Vk8"
      },
      "source": [
        "p=0.7087039065352319\n",
        "acc.append(p)\n",
        "model.append(\"LOGISTIC REGRESSION\")\n"
      ],
      "execution_count": null,
      "outputs": []
    },
    {
      "cell_type": "markdown",
      "metadata": {
        "id": "t_DfsyN0toE5"
      },
      "source": [
        "### Decision Tree"
      ]
    },
    {
      "cell_type": "code",
      "metadata": {
        "id": "UEbAVfB3toE5"
      },
      "source": [
        "from sklearn.model_selection import GridSearchCV\n",
        "from sklearn.tree import DecisionTreeClassifier\n",
        "clf = GridSearchCV(DecisionTreeClassifier(), {'criterion':['gini', 'entropy']}, cv=10, return_train_score=False)\n",
        "clf.fit(X, y)\n",
        "t=clf.predict(X)\n",
        "b=accuracy_score(y,t)\n",
        "clf.cv_results_"
      ],
      "execution_count": null,
      "outputs": []
    },
    {
      "cell_type": "code",
      "metadata": {
        "colab": {
          "background_save": true
        },
        "id": "qRxsinZItoE6",
        "scrolled": true
      },
      "source": [
        "dt_result_df = pd.DataFrame(clf.cv_results_)\n",
        "dt_result_df[['param_criterion', 'mean_test_score']]\n",
        "b"
      ],
      "execution_count": null,
      "outputs": []
    },
    {
      "cell_type": "code",
      "metadata": {
        "colab": {
          "background_save": true
        },
        "id": "meyCJMmm_KZN"
      },
      "source": [
        "acc.append(b)\n",
        "model.append(\"DECISION TREE\")\n",
        "acc.pop(1)\n",
        "\n",
        "acc"
      ],
      "execution_count": null,
      "outputs": []
    },
    {
      "cell_type": "code",
      "metadata": {
        "colab": {
          "background_save": true
        },
        "id": "KDFgNt5CAFiu"
      },
      "source": [
        "acc.pop(1)\n",
        "acc.pop(2)\n",
        "acc.pop(3)\n"
      ],
      "execution_count": null,
      "outputs": []
    },
    {
      "cell_type": "code",
      "metadata": {
        "colab": {
          "background_save": true
        },
        "id": "83V4LkHuAWPC"
      },
      "source": [
        "acc"
      ],
      "execution_count": null,
      "outputs": []
    },
    {
      "cell_type": "code",
      "metadata": {
        "colab": {
          "background_save": true
        },
        "id": "SAU6LvRkAarZ"
      },
      "source": [
        "model=model[:3]"
      ],
      "execution_count": null,
      "outputs": []
    },
    {
      "cell_type": "code",
      "metadata": {
        "colab": {
          "background_save": true
        },
        "id": "9UB43irRAibo"
      },
      "source": [
        "model"
      ],
      "execution_count": null,
      "outputs": []
    },
    {
      "cell_type": "markdown",
      "metadata": {
        "id": "LoI8lhMptoE7"
      },
      "source": [
        "### Random Forest"
      ]
    },
    {
      "cell_type": "code",
      "metadata": {
        "colab": {
          "background_save": true
        },
        "id": "pBg__vcStoE8"
      },
      "source": [
        "from sklearn.ensemble import RandomForestClassifier\n",
        "rf_clf = GridSearchCV(RandomForestClassifier(), {'n_estimators':[1, 5, 10, 20, 30, 40, 50,60]}, cv=10, return_train_score=False)\n",
        "rf_clf.fit(X, y)\n",
        "j=rf_clf.predict(X)\n",
        "f=accuracy_score(y,j)\n",
        "rf_clf.cv_results_"
      ],
      "execution_count": null,
      "outputs": []
    },
    {
      "cell_type": "code",
      "metadata": {
        "colab": {
          "background_save": true
        },
        "id": "x0F-qCfetoE9",
        "scrolled": true
      },
      "source": [
        "rf_result_df = pd.DataFrame(rf_clf.cv_results_)\n",
        "rf_result_df[['param_n_estimators', 'mean_test_score']]\n",
        "f"
      ],
      "execution_count": null,
      "outputs": []
    },
    {
      "cell_type": "code",
      "metadata": {
        "colab": {
          "background_save": true
        },
        "id": "AoXwmttj_kRK"
      },
      "source": [
        "model.append(\"RANDOM FOREST\")\n",
        "acc.append(f)"
      ],
      "execution_count": null,
      "outputs": []
    },
    {
      "cell_type": "markdown",
      "metadata": {
        "id": "ywKX6hGytoE-"
      },
      "source": [
        "### Support Vector Machine(SVM)"
      ]
    },
    {
      "cell_type": "code",
      "metadata": {
        "colab": {
          "background_save": true
        },
        "id": "DlSIZDoutoE_"
      },
      "source": [
        "from sklearn.svm import SVC\n",
        "from sklearn.metrics import accuracy_score\n",
        "svm_clf = GridSearchCV(SVC(), {'C': [1,10,20], 'kernel': ['rbf','linear']}, cv=10, return_train_score=False)\n",
        "svm_clf.fit(X, y)\n",
        "u=svm_clf.predict(X)\n",
        "a=accuracy_score(y,u)\n",
        "svm_clf.cv_results_"
      ],
      "execution_count": null,
      "outputs": []
    },
    {
      "cell_type": "code",
      "metadata": {
        "colab": {
          "background_save": true
        },
        "id": "6rZZuUiktoFA",
        "scrolled": true
      },
      "source": [
        "svm_result_df = pd.DataFrame(svm_clf.cv_results_)\n",
        "svm_result_df[['param_C', 'param_kernel', 'mean_test_score']]\n",
        "a\n"
      ],
      "execution_count": null,
      "outputs": []
    },
    {
      "cell_type": "code",
      "metadata": {
        "colab": {
          "background_save": true
        },
        "id": "6mK0D-anArVn"
      },
      "source": [
        "acc.append(a)\n",
        "model.append(\"SVM\")"
      ],
      "execution_count": null,
      "outputs": []
    },
    {
      "cell_type": "markdown",
      "metadata": {
        "id": "abuAiGf1toFB"
      },
      "source": [
        "### Naive Bayes"
      ]
    },
    {
      "cell_type": "code",
      "metadata": {
        "colab": {
          "background_save": true
        },
        "id": "k2r_JDJitoFB"
      },
      "source": [
        "from sklearn.naive_bayes import GaussianNB\n",
        "nb_clf = GridSearchCV(GaussianNB(),{}, cv=10, return_train_score=False)\n",
        "nb_clf.fit(X, y)\n",
        "e=nb_clf.predict(X)\n",
        "g=accuracy_score(y,e)\n",
        "nb_clf.cv_results_"
      ],
      "execution_count": null,
      "outputs": []
    },
    {
      "cell_type": "code",
      "metadata": {
        "colab": {
          "background_save": true
        },
        "id": "Vsxavj6vtoFC",
        "scrolled": false
      },
      "source": [
        "nb_result_df = pd.DataFrame(nb_clf.cv_results_)\n",
        "x=nb_result_df[['mean_test_score']]\n",
        "g"
      ],
      "execution_count": null,
      "outputs": []
    },
    {
      "cell_type": "code",
      "metadata": {
        "colab": {
          "background_save": true
        },
        "id": "2uv9BOXFBEX1"
      },
      "source": [
        "acc.append(g)\n",
        "model.append(\"NAIVE BAYES\")"
      ],
      "execution_count": null,
      "outputs": []
    },
    {
      "cell_type": "code",
      "metadata": {
        "colab": {
          "background_save": true
        },
        "id": "ui-D6fJ5BMQc"
      },
      "source": [
        "\n",
        "model"
      ],
      "execution_count": null,
      "outputs": []
    },
    {
      "cell_type": "code",
      "metadata": {
        "colab": {
          "background_save": true
        },
        "id": "YR36HUOzBRQD"
      },
      "source": [
        "acc"
      ],
      "execution_count": null,
      "outputs": []
    },
    {
      "cell_type": "code",
      "metadata": {
        "colab": {
          "background_save": true
        },
        "id": "oe82xeEztoFE",
        "scrolled": false
      },
      "source": [
        "from sklearn.neighbors import KNeighborsClassifier\n",
        "from sklearn.model_selection import GridSearchCV\n",
        "knn_clf = GridSearchCV(KNeighborsClassifier(),{\"n_neighbors\":[1, 3, 5, 7, 9, 10, 12, 13, 14, 16, 20, 23, 25, 28, 30]}, cv=12, return_train_score=False)\n",
        "knn_clf.fit(X, y)\n",
        "r=knn_clf.predict(X)\n",
        "rt=accuracy_score(y,r)\n",
        "knn_clf.cv_results_"
      ],
      "execution_count": null,
      "outputs": []
    },
    {
      "cell_type": "code",
      "metadata": {
        "colab": {
          "background_save": true
        },
        "id": "6agw8nV8toFF"
      },
      "source": [
        "knn_results_df = pd.DataFrame(knn_clf.cv_results_)\n",
        "knn_results_df[[\"param_n_neighbors\", \"mean_test_score\" ]]\n",
        "rt"
      ],
      "execution_count": null,
      "outputs": []
    },
    {
      "cell_type": "code",
      "metadata": {
        "colab": {
          "background_save": true
        },
        "id": "dE5OdWXTBjOe"
      },
      "source": [
        "acc.append(rt)\n",
        "model.append(\"KNEAREST NEIGHBOUR\")"
      ],
      "execution_count": null,
      "outputs": []
    },
    {
      "cell_type": "code",
      "metadata": {
        "colab": {
          "background_save": true
        },
        "id": "78uv3a0eBu9T"
      },
      "source": [
        "acc"
      ],
      "execution_count": null,
      "outputs": []
    },
    {
      "cell_type": "code",
      "metadata": {
        "colab": {
          "background_save": true
        },
        "id": "11Abb3pzBv3e"
      },
      "source": [
        "model"
      ],
      "execution_count": null,
      "outputs": []
    },
    {
      "cell_type": "code",
      "metadata": {
        "colab": {
          "background_save": true
        },
        "id": "E8r9KVhLB_sm"
      },
      "source": [
        "\n",
        "plt.figure(figsize=[10,5],dpi = 100)\n",
        "plt.title('Accuracy Comparison')\n",
        "plt.xlabel('Accuracy')\n",
        "plt.ylabel('Algorithm')\n",
        "sns.barplot(x = acc,y = model,palette='dark')"
      ],
      "execution_count": null,
      "outputs": []
    },
    {
      "cell_type": "markdown",
      "metadata": {
        "id": "TJJWwcCmtoFG"
      },
      "source": [
        "#### We can infer that the performance of Random forest and Decision tree are good.So we will be using it for the final prediction"
      ]
    },
    {
      "cell_type": "markdown",
      "metadata": {
        "id": "0y0nSb22toFH"
      },
      "source": [
        "### Preprocessing the Test data"
      ]
    },
    {
      "cell_type": "code",
      "metadata": {
        "colab": {
          "background_save": true
        },
        "id": "PJ64Zl27toFH"
      },
      "source": [
        "test_df.head()"
      ],
      "execution_count": null,
      "outputs": []
    },
    {
      "cell_type": "code",
      "metadata": {
        "colab": {
          "background_save": true
        },
        "id": "El_Pps7qtoFI"
      },
      "source": [
        "test_record_id = test_df['record_id']"
      ],
      "execution_count": null,
      "outputs": []
    },
    {
      "cell_type": "code",
      "metadata": {
        "colab": {
          "background_save": true
        },
        "id": "TSpIq9z-toFJ"
      },
      "source": [
        "cols_needed = train_df.drop('conversion_fraud', axis=\"columns\")\n",
        "cols_needed1=cols_needed.columns"
      ],
      "execution_count": null,
      "outputs": []
    },
    {
      "cell_type": "code",
      "metadata": {
        "colab": {
          "background_save": true
        },
        "id": "A-96UlLLtoFK",
        "scrolled": true
      },
      "source": [
        "len(cols_needed1) "
      ],
      "execution_count": null,
      "outputs": []
    },
    {
      "cell_type": "code",
      "metadata": {
        "colab": {
          "background_save": true
        },
        "id": "wXymqs13toFK",
        "scrolled": true
      },
      "source": [
        "cols_needed1"
      ],
      "execution_count": null,
      "outputs": []
    },
    {
      "cell_type": "code",
      "metadata": {
        "colab": {
          "background_save": true
        },
        "id": "EhPpV7sKtoFM",
        "scrolled": true
      },
      "source": [
        "test_df_1 = test_df[cols_needed1]"
      ],
      "execution_count": null,
      "outputs": []
    },
    {
      "cell_type": "code",
      "metadata": {
        "colab": {
          "background_save": true
        },
        "id": "8x-q4hbVtoFN",
        "scrolled": true
      },
      "source": [
        "test_df_1.head()"
      ],
      "execution_count": null,
      "outputs": []
    },
    {
      "cell_type": "markdown",
      "metadata": {
        "id": "NXFXuVWPtoFO"
      },
      "source": [
        "### Filling the missing values in test data using random imputation"
      ]
    },
    {
      "cell_type": "code",
      "metadata": {
        "colab": {
          "background_save": true
        },
        "id": "qsl8cG6ptoFP",
        "scrolled": true
      },
      "source": [
        "test_df_1.isnull().mean()*100"
      ],
      "execution_count": null,
      "outputs": []
    },
    {
      "cell_type": "code",
      "metadata": {
        "colab": {
          "background_save": true
        },
        "id": "I5yWOuNctoFQ"
      },
      "source": [
        "cols_with_nan = [feature for feature in test_df_1.columns if test_df_1[feature].isnull().sum() != 0]"
      ],
      "execution_count": null,
      "outputs": []
    },
    {
      "cell_type": "code",
      "metadata": {
        "colab": {
          "background_save": true
        },
        "id": "DVmE_k_EtoFR"
      },
      "source": [
        "cols_with_nan"
      ],
      "execution_count": null,
      "outputs": []
    },
    {
      "cell_type": "code",
      "metadata": {
        "colab": {
          "background_save": true
        },
        "id": "fakClMZitoFT"
      },
      "source": [
        "for feature in cols_with_nan:\n",
        "    impute_nan(test_df_1, feature)"
      ],
      "execution_count": null,
      "outputs": []
    },
    {
      "cell_type": "code",
      "metadata": {
        "colab": {
          "background_save": true
        },
        "id": "KC5QLcNttoFU",
        "scrolled": true
      },
      "source": [
        "test_df_1.isnull().mean()*100"
      ],
      "execution_count": null,
      "outputs": []
    },
    {
      "cell_type": "code",
      "metadata": {
        "colab": {
          "background_save": true
        },
        "id": "1RjWlaBItoFW"
      },
      "source": [
        "test_df_1.head()"
      ],
      "execution_count": null,
      "outputs": []
    },
    {
      "cell_type": "markdown",
      "metadata": {
        "id": "HYYn7qu_toFY"
      },
      "source": [
        "### Feature scaling in test data"
      ]
    },
    {
      "cell_type": "code",
      "metadata": {
        "colab": {
          "background_save": true
        },
        "id": "X4pq0F-AtoFY"
      },
      "source": [
        "cols_to_scale = [feature for feature in test_df_1.columns]\n",
        "\n",
        "from sklearn.preprocessing import MinMaxScaler\n",
        "scaler = MinMaxScaler()\n",
        "test_df_1[cols_to_scale] = scaler.fit_transform(test_df_1[cols_to_scale])"
      ],
      "execution_count": null,
      "outputs": []
    },
    {
      "cell_type": "code",
      "metadata": {
        "colab": {
          "background_save": true
        },
        "id": "nRIpMXUwtoFZ"
      },
      "source": [
        "test_df_1.head()"
      ],
      "execution_count": null,
      "outputs": []
    },
    {
      "cell_type": "markdown",
      "metadata": {
        "id": "hYBCaxyRtoFa"
      },
      "source": [
        "### Prediction"
      ]
    },
    {
      "cell_type": "markdown",
      "metadata": {
        "id": "C1aupJMutoFb"
      },
      "source": [
        "#### Using Random Forest"
      ]
    },
    {
      "cell_type": "code",
      "metadata": {
        "colab": {
          "background_save": true
        },
        "id": "WHZZ6DeitoFc"
      },
      "source": [
        "rf_model = RandomForestClassifier(n_estimators=40)\n",
        "rf_model.fit(X, y)"
      ],
      "execution_count": null,
      "outputs": []
    },
    {
      "cell_type": "code",
      "metadata": {
        "colab": {
          "background_save": true
        },
        "id": "j2wdxwFUtoFd"
      },
      "source": [
        "rf_result = rf_model.predict(test_df_1)\n",
        "rf_result_df = pd.DataFrame(rf_result, columns=[\"conversion_fraud\"])\n",
        "Final_Prediction_df_rf = pd.concat([test_record_id, rf_result_df], axis=\"columns\")\n",
        "Final_Prediction_df_rf[\"conversion_fraud\"] = Final_Prediction_df_rf[\"conversion_fraud\"].map({1:True, 0:False})\n",
        "Final_Prediction_df_rf.to_csv(\"result_rf.csv\", index=False)"
      ],
      "execution_count": null,
      "outputs": []
    },
    {
      "cell_type": "markdown",
      "metadata": {
        "id": "PsZGpdBbtoFj"
      },
      "source": [
        "#### Using Random Forest with n_estimators=60"
      ]
    },
    {
      "cell_type": "code",
      "metadata": {
        "colab": {
          "background_save": true
        },
        "id": "q5I9LeS2toFk"
      },
      "source": [
        "rf1_model = RandomForestClassifier(n_estimators=60)\n",
        "rf1_model.fit(X, y)"
      ],
      "execution_count": null,
      "outputs": []
    },
    {
      "cell_type": "code",
      "metadata": {
        "colab": {
          "background_save": true
        },
        "id": "UEEcjsoXtoFl"
      },
      "source": [
        "rf1_result = rf1_model.predict(test_df_1)\n",
        "rf1_result_df = pd.DataFrame(rf1_result, columns=[\"conversion_fraud\"])\n",
        "Final_Prediction_df_rf1 = pd.concat([test_record_id, rf1_result_df], axis=\"columns\")\n",
        "Final_Prediction_df_rf1[\"conversion_fraud\"] = Final_Prediction_df_rf1[\"conversion_fraud\"].map({1:True, 0:False})\n",
        "Final_Prediction_df_rf1.to_csv(\"result_rf1.csv\", index=False)"
      ],
      "execution_count": null,
      "outputs": []
    },
    {
      "cell_type": "code",
      "metadata": {
        "colab": {
          "background_save": true
        },
        "id": "bTmtT532toFm"
      },
      "source": [
        "A1=X_train"
      ],
      "execution_count": null,
      "outputs": []
    },
    {
      "cell_type": "code",
      "metadata": {
        "colab": {
          "background_save": true
        },
        "id": "1tcm-NqU6jxk"
      },
      "source": [
        "B1=y_train"
      ],
      "execution_count": null,
      "outputs": []
    },
    {
      "cell_type": "code",
      "metadata": {
        "colab": {
          "background_save": true
        },
        "id": "Rm_CUnZm6kDn"
      },
      "source": [
        "A1.shape"
      ],
      "execution_count": null,
      "outputs": []
    },
    {
      "cell_type": "code",
      "metadata": {
        "colab": {
          "background_save": true
        },
        "id": "fqr6mhVy6kWC"
      },
      "source": [
        "B1.shape"
      ],
      "execution_count": null,
      "outputs": []
    },
    {
      "cell_type": "code",
      "metadata": {
        "colab": {
          "background_save": true
        },
        "id": "Gi0CROZq6koP"
      },
      "source": [
        "import keras\n",
        "from keras.models import Sequential\n",
        "from keras.layers import Dense"
      ],
      "execution_count": null,
      "outputs": []
    },
    {
      "cell_type": "code",
      "metadata": {
        "colab": {
          "background_save": true
        },
        "id": "YTY8PiV07NLG"
      },
      "source": [
        "classifier= Sequential()"
      ],
      "execution_count": null,
      "outputs": []
    },
    {
      "cell_type": "code",
      "metadata": {
        "colab": {
          "background_save": true
        },
        "id": "N4OqkhmF7Ncd"
      },
      "source": [
        "classifier.add(Dense(units=32, kernel_initializer='uniform',activation='relu'))"
      ],
      "execution_count": null,
      "outputs": []
    },
    {
      "cell_type": "code",
      "metadata": {
        "colab": {
          "background_save": true
        },
        "id": "yISGoVza7V5t"
      },
      "source": [
        "classifier.add(Dense(units=30, kernel_initializer=\"uniform\", activation= \"relu\"))"
      ],
      "execution_count": null,
      "outputs": []
    },
    {
      "cell_type": "code",
      "metadata": {
        "colab": {
          "background_save": true
        },
        "id": "xPvO4z4B7WHS"
      },
      "source": [
        "classifier.add(Dense(units=1, kernel_initializer=\"uniform\", activation= \"sigmoid\"))"
      ],
      "execution_count": null,
      "outputs": []
    },
    {
      "cell_type": "code",
      "metadata": {
        "colab": {
          "background_save": true
        },
        "id": "hM0X2DaX7d3i"
      },
      "source": [
        "classifier.compile(optimizer=\"adam\", loss=\"binary_crossentropy\", metrics=[\"accuracy\"])"
      ],
      "execution_count": null,
      "outputs": []
    },
    {
      "cell_type": "code",
      "metadata": {
        "colab": {
          "background_save": true
        },
        "id": "DfGE_nuu7eAu"
      },
      "source": [
        "# Compiling the ANN\n",
        "classifier.fit(A1, B1, batch_size=20, epochs=250)"
      ],
      "execution_count": null,
      "outputs": []
    },
    {
      "cell_type": "code",
      "metadata": {
        "colab": {
          "background_save": true
        },
        "id": "rEL9DKbg7WW1"
      },
      "source": [
        "ym_pred=classifier.predict(X_test)"
      ],
      "execution_count": null,
      "outputs": []
    },
    {
      "cell_type": "code",
      "metadata": {
        "colab": {
          "background_save": true
        },
        "id": "fyLksoMy768U"
      },
      "source": [
        "ym_pred = (ym_pred > 0.5)"
      ],
      "execution_count": null,
      "outputs": []
    },
    {
      "cell_type": "code",
      "metadata": {
        "colab": {
          "background_save": true
        },
        "id": "4v7DoTqE77iM"
      },
      "source": [
        "from sklearn.metrics import confusion_matrix "
      ],
      "execution_count": null,
      "outputs": []
    },
    {
      "cell_type": "code",
      "metadata": {
        "colab": {
          "background_save": true
        },
        "id": "MrDdG3Zj7NtJ"
      },
      "source": [
        "cm= confusion_matrix(y_test,ym_pred)"
      ],
      "execution_count": null,
      "outputs": []
    },
    {
      "cell_type": "code",
      "metadata": {
        "colab": {
          "background_save": true
        },
        "id": "8nmmXK9k6lBp"
      },
      "source": [
        "print(cm)"
      ],
      "execution_count": null,
      "outputs": []
    },
    {
      "cell_type": "code",
      "metadata": {
        "colab": {
          "background_save": true
        },
        "id": "HnuiTLBABB9N"
      },
      "source": [
        "classy= Sequential()"
      ],
      "execution_count": null,
      "outputs": []
    },
    {
      "cell_type": "code",
      "metadata": {
        "colab": {
          "background_save": true
        },
        "id": "7HyAl3X7BCRy"
      },
      "source": [
        "classy.add(Dense(units=32, kernel_initializer='uniform',activation='relu'))"
      ],
      "execution_count": null,
      "outputs": []
    },
    {
      "cell_type": "code",
      "metadata": {
        "colab": {
          "background_save": true
        },
        "id": "zikHf3acBClE"
      },
      "source": [
        "classy.add(Dense(units=30, kernel_initializer=\"uniform\", activation= \"relu\"))"
      ],
      "execution_count": null,
      "outputs": []
    },
    {
      "cell_type": "code",
      "metadata": {
        "colab": {
          "background_save": true
        },
        "id": "h39b5IzFBC5r"
      },
      "source": [
        "classy.add(Dense(units=1, kernel_initializer=\"uniform\", activation= \"sigmoid\"))"
      ],
      "execution_count": null,
      "outputs": []
    },
    {
      "cell_type": "code",
      "metadata": {
        "colab": {
          "background_save": true
        },
        "id": "S49WaGrH8pcr"
      },
      "source": [
        "classy.compile(optimizer=\"adam\", loss=\"binary_crossentropy\", metrics=[\"accuracy\"])"
      ],
      "execution_count": null,
      "outputs": []
    },
    {
      "cell_type": "code",
      "metadata": {
        "colab": {
          "background_save": true
        },
        "id": "UUhGlII78pzm"
      },
      "source": [
        "# Compiling the ANN\n",
        "classy.fit(A1, B1, batch_size=20, epochs=50)"
      ],
      "execution_count": null,
      "outputs": []
    },
    {
      "cell_type": "code",
      "metadata": {
        "colab": {
          "background_save": true
        },
        "id": "5ENPx__G8qAj"
      },
      "source": [
        "ym2_pred=classy.predict(X_test)"
      ],
      "execution_count": null,
      "outputs": []
    },
    {
      "cell_type": "code",
      "metadata": {
        "colab": {
          "background_save": true
        },
        "id": "FAGiO1CZCgFK"
      },
      "source": [
        "ym2_pred = (ym2_pred > 0.5)"
      ],
      "execution_count": null,
      "outputs": []
    },
    {
      "cell_type": "code",
      "metadata": {
        "colab": {
          "background_save": true
        },
        "id": "wEBaB9TwCgRz"
      },
      "source": [
        "from sklearn.metrics import confusion_matrix "
      ],
      "execution_count": null,
      "outputs": []
    },
    {
      "cell_type": "code",
      "metadata": {
        "colab": {
          "background_save": true
        },
        "id": "WYenFmCxCtx2"
      },
      "source": [
        "cm2= confusion_matrix(y_test,ym2_pred)"
      ],
      "execution_count": null,
      "outputs": []
    },
    {
      "cell_type": "code",
      "metadata": {
        "colab": {
          "background_save": true
        },
        "id": "SwnnvI5eCuCx"
      },
      "source": [
        "print(cm2)"
      ],
      "execution_count": null,
      "outputs": []
    },
    {
      "cell_type": "code",
      "metadata": {
        "colab": {
          "background_save": true
        },
        "id": "FbonsVmp8qU_"
      },
      "source": [
        "print(ym2_pred[:10])"
      ],
      "execution_count": null,
      "outputs": []
    },
    {
      "cell_type": "code",
      "metadata": {
        "colab": {
          "background_save": true
        },
        "id": "PxyJ7ZBOFpTp"
      },
      "source": [
        "ymlk_pred=classy.predict(test_df_1.values)"
      ],
      "execution_count": null,
      "outputs": []
    },
    {
      "cell_type": "code",
      "metadata": {
        "colab": {
          "background_save": true
        },
        "id": "IY9mKB1lHQ2W"
      },
      "source": [
        "ymlk_pred = (ymlk_pred > 0.5)"
      ],
      "execution_count": null,
      "outputs": []
    },
    {
      "cell_type": "code",
      "metadata": {
        "colab": {
          "background_save": true
        },
        "id": "QMuejiwYHRPG"
      },
      "source": [
        "print(ymlk_pred[:10])"
      ],
      "execution_count": null,
      "outputs": []
    },
    {
      "cell_type": "code",
      "metadata": {
        "colab": {
          "background_save": true
        },
        "id": "QVlpumIfFprM"
      },
      "source": [
        "pred=pd.DataFrame(ymlk_pred)\n",
        "sub_df=pd.read_csv('sample_submission.csv')\n",
        "datasets=pd.concat([sub_df['record_id'],pred],axis=1)\n",
        "datasets.columns=['record_id','conversion_fraud']\n",
        "datasets.to_csv('Sample_Submission_ANN1.csv',index=False)"
      ],
      "execution_count": null,
      "outputs": []
    },
    {
      "cell_type": "code",
      "metadata": {
        "colab": {
          "background_save": true
        },
        "id": "K8MkexxIIYCF"
      },
      "source": [
        "adf=pd.read_csv('Sample_Submission_ANN1.csv')"
      ],
      "execution_count": null,
      "outputs": []
    },
    {
      "cell_type": "code",
      "metadata": {
        "colab": {
          "background_save": true
        },
        "id": "tpVRMKyGIYYG"
      },
      "source": [
        "adf.isnull().sum()"
      ],
      "execution_count": null,
      "outputs": []
    },
    {
      "cell_type": "code",
      "metadata": {
        "colab": {
          "background_save": true
        },
        "id": "VopT9cbcIYsP"
      },
      "source": [
        "adf.shape"
      ],
      "execution_count": null,
      "outputs": []
    },
    {
      "cell_type": "code",
      "metadata": {
        "colab": {
          "background_save": true
        },
        "id": "I0ZHTx_KXuOD"
      },
      "source": [
        "from sklearn import ensemble\n",
        "from sklearn import metrics\n",
        "\n",
        "params = {'n_estimators': 5000, 'max_depth': 3, 'subsample': 0.5,\n",
        "          'learning_rate': 0.01, 'min_samples_leaf': 1, 'random_state': 3}\n",
        "clf = ensemble.GradientBoostingClassifier(**params)\n",
        "clf.fit(A1, B1) #trains\n",
        "y_pred = clf.predict(X_test)  #predicts\n",
        "print('confusion matrix')\n",
        "print(metrics.confusion_matrix(y_test, y_pred))\n",
        "print('classification report')\n",
        "print(metrics.classification_report(y_test, y_pred))\n",
        "print(\"-----------------------------------------------------------------------------------------\")\n",
        "print(\"Accuracy is :\")\n",
        "print(metrics.accuracy_score(y_test, y_pred))"
      ],
      "execution_count": null,
      "outputs": []
    },
    {
      "cell_type": "code",
      "metadata": {
        "colab": {
          "background_save": true
        },
        "id": "HlvXC3_jXuUY"
      },
      "source": [
        "from xgboost.sklearn import XGBClassifier\n",
        "\n",
        "# Create the XGB classifier, xgb_model.\n",
        "xgb_model = XGBClassifier()"
      ],
      "execution_count": null,
      "outputs": []
    },
    {
      "cell_type": "code",
      "metadata": {
        "colab": {
          "background_save": true
        },
        "id": "crMtLyNxXuey"
      },
      "source": [
        "# List the default parameters.\n",
        "print(xgb_model.get_xgb_params())"
      ],
      "execution_count": null,
      "outputs": []
    },
    {
      "cell_type": "code",
      "metadata": {
        "colab": {
          "background_save": true
        },
        "id": "qyhDetXUulyh"
      },
      "source": [
        "# Train and evaluate.\n",
        "xgb_model.fit(A1, B1, eval_metric=['error'], eval_set=[((A1,B1)),(X_test, y_test)])"
      ],
      "execution_count": null,
      "outputs": []
    },
    {
      "cell_type": "code",
      "metadata": {
        "colab": {
          "background_save": true
        },
        "id": "klaMa1N8yVte"
      },
      "source": [
        " xgb_model= XGBClassifier(base_score=0.5, booster='gbtree', colsample_bylevel=1,\n",
        "              colsample_bynode=1, colsample_bytree=1, gamma=0,\n",
        "              learning_rate=0.1, max_delta_step=0, max_depth=3,\n",
        "              min_child_weight=1, missing=None, n_estimators=500, n_jobs=1,\n",
        "              nthread=None, objective='binary:logistic', random_state=0,\n",
        "              reg_alpha=0, reg_lambda=1, scale_pos_weight=1, seed=None,\n",
        "              silent=None, subsample=1, verbosity=1)"
      ],
      "execution_count": null,
      "outputs": []
    },
    {
      "cell_type": "code",
      "metadata": {
        "colab": {
          "background_save": true
        },
        "id": "heRlSRE7umB9"
      },
      "source": [
        "from sklearn import metrics\n",
        "import warnings\n",
        "warnings.filterwarnings(\"ignore\")\n",
        "xgb_model=xgb_model.fit(A1, B1)\n",
        "y_pred = xgb_model.predict(X_test)  #predicts\n",
        "print('confusion matrix')\n",
        "print(metrics.confusion_matrix(y_test, y_pred))\n",
        "print('classification report')\n",
        "print(metrics.classification_report(y_test, y_pred))\n",
        "print(\"-----------------------------------------------------------------------------------------\")\n",
        "print(\"Accuracy is :\")\n",
        "print(metrics.accuracy_score(y_test, y_pred))"
      ],
      "execution_count": null,
      "outputs": []
    },
    {
      "cell_type": "code",
      "metadata": {
        "colab": {
          "background_save": true
        },
        "id": "TS5Rrb4cumdq"
      },
      "source": [
        "ypl=clf.predict(test_df_1)\n",
        "ypl[:10]"
      ],
      "execution_count": null,
      "outputs": []
    },
    {
      "cell_type": "code",
      "metadata": {
        "colab": {
          "background_save": true
        },
        "id": "MOZDr9wg0pNi"
      },
      "source": [
        "ypl_list = []\n",
        "for element in ypl:\n",
        "    if element ==1:\n",
        "        ypl_list.append(\"TRUE\")\n",
        "    else:\n",
        "        ypl_list.append(\"FALSE\")"
      ],
      "execution_count": null,
      "outputs": []
    },
    {
      "cell_type": "code",
      "metadata": {
        "colab": {
          "background_save": true
        },
        "id": "qpI_8X2q0pbm"
      },
      "source": [
        "ypl_list[:10]"
      ],
      "execution_count": null,
      "outputs": []
    },
    {
      "cell_type": "code",
      "metadata": {
        "colab": {
          "background_save": true
        },
        "id": "Jwdng87T0pnp"
      },
      "source": [
        "##Create Sample Submission file and Submit using ANN\n",
        "pred=pd.DataFrame(ypl_list)\n",
        "sub_df=pd.read_csv('sample_submission.csv')\n",
        "datasets=pd.concat([sub_df['record_id'],pred],axis=1)\n",
        "datasets.columns=['record_id','conversion_fraud']\n",
        "datasets.to_csv('Sample_Submission_Gradient.csv',index=False)"
      ],
      "execution_count": null,
      "outputs": []
    },
    {
      "cell_type": "code",
      "metadata": {
        "colab": {
          "background_save": true
        },
        "id": "coruk_l2umoN"
      },
      "source": [
        "ympl=xgb_model.predict(test_df_1.values)\n",
        "ympl[:10]"
      ],
      "execution_count": null,
      "outputs": []
    },
    {
      "cell_type": "code",
      "metadata": {
        "colab": {
          "background_save": true
        },
        "id": "NQBl6QJBXulM"
      },
      "source": [
        "ympl_list = []\n",
        "for element in ympl:\n",
        "    if element ==1:\n",
        "        ympl_list.append('TRUE')\n",
        "    else:\n",
        "        ympl_list.append('FALSE')"
      ],
      "execution_count": null,
      "outputs": []
    },
    {
      "cell_type": "code",
      "metadata": {
        "id": "aMlhtEDH31re"
      },
      "source": [
        "ympl_list[:10]"
      ],
      "execution_count": null,
      "outputs": []
    },
    {
      "cell_type": "code",
      "metadata": {
        "id": "ocY1oEN9312c"
      },
      "source": [
        "##Create Sample Submission file and Submit using ANN\n",
        "pred=pd.DataFrame(ympl_list)\n",
        "sub_df=pd.read_csv('sample_submission.csv')\n",
        "datasets=pd.concat([sub_df['record_id'],pred],axis=1)\n",
        "datasets.columns=['record_id','conversion_fraud']\n",
        "datasets.to_csv('Sample_Submission_XGBOOST.csv',index=False)"
      ],
      "execution_count": null,
      "outputs": []
    },
    {
      "cell_type": "code",
      "metadata": {
        "id": "NJMcA2qVALqs"
      },
      "source": [
        ""
      ],
      "execution_count": null,
      "outputs": []
    },
    {
      "cell_type": "code",
      "metadata": {
        "id": "I49GjcWoALxV"
      },
      "source": [
        ""
      ],
      "execution_count": null,
      "outputs": []
    },
    {
      "cell_type": "code",
      "metadata": {
        "id": "pMvHlKd7AL5K"
      },
      "source": [
        ""
      ],
      "execution_count": null,
      "outputs": []
    },
    {
      "cell_type": "code",
      "metadata": {
        "id": "L0wgV7pzAL--"
      },
      "source": [
        ""
      ],
      "execution_count": null,
      "outputs": []
    },
    {
      "cell_type": "code",
      "metadata": {
        "id": "cuf080cYAMEx"
      },
      "source": [
        ""
      ],
      "execution_count": null,
      "outputs": []
    },
    {
      "cell_type": "code",
      "metadata": {
        "id": "cuAPI66FAMQh"
      },
      "source": [
        ""
      ],
      "execution_count": null,
      "outputs": []
    },
    {
      "cell_type": "code",
      "metadata": {
        "id": "AUspqTPmPEod"
      },
      "source": [
        ""
      ],
      "execution_count": null,
      "outputs": []
    }
  ]
}